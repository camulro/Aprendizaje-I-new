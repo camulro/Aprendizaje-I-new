{
  "nbformat": 4,
  "nbformat_minor": 0,
  "metadata": {
    "kernelspec": {
      "display_name": "Python 3",
      "language": "python",
      "name": "python3"
    },
    "language_info": {
      "codemirror_mode": {
        "name": "ipython",
        "version": 3
      },
      "file_extension": ".py",
      "mimetype": "text/x-python",
      "name": "python",
      "nbconvert_exporter": "python",
      "pygments_lexer": "ipython3",
      "version": "3.6.5"
    },
    "colab": {
      "name": "10-PCA_analitica_textos.ipynb",
      "provenance": [],
      "collapsed_sections": [],
      "include_colab_link": true
    }
  },
  "cells": [
    {
      "cell_type": "markdown",
      "metadata": {
        "id": "view-in-github",
        "colab_type": "text"
      },
      "source": [
        "<a href=\"https://colab.research.google.com/github/camulro/Aprendizaje-I-new/blob/main/10_PCA_analitica_textos.ipynb\" target=\"_parent\"><img src=\"https://colab.research.google.com/assets/colab-badge.svg\" alt=\"Open In Colab\"/></a>"
      ]
    },
    {
      "cell_type": "markdown",
      "metadata": {
        "id": "ZQyPb_ajXzcw"
      },
      "source": [
        "<font color=\"#CA3532\"><h1 align=\"left\">**Máster en Data Science**</h1></font>\n",
        "## **PCA con Analítica de Texto**\n",
        "\n",
        "#### Manuel Sánchez-Montañés"
      ]
    },
    {
      "cell_type": "markdown",
      "metadata": {
        "id": "YFZhiHYyXzc1"
      },
      "source": [
        " Analysis of a subset of a complaints dataset using 2 classes."
      ]
    },
    {
      "cell_type": "code",
      "metadata": {
        "id": "NsVXPlwVYWug"
      },
      "source": [
        "COLAB = True"
      ],
      "execution_count": 1,
      "outputs": []
    },
    {
      "cell_type": "markdown",
      "metadata": {
        "id": "5mZOu-UWXzc4"
      },
      "source": [
        "## **1. Import main libraries**"
      ]
    },
    {
      "cell_type": "code",
      "metadata": {
        "id": "q71r3ArqXzc7",
        "outputId": "325edb40-ec9c-4f0e-dd57-29762d8fa7e2",
        "colab": {
          "base_uri": "https://localhost:8080/"
        }
      },
      "source": [
        "import warnings\n",
        "warnings.filterwarnings(\"ignore\")\n",
        "import nltk\n",
        "nltk.download('stopwords')\n",
        "nltk.download('wordnet')\n",
        "nltk.download('punkt')\n",
        "from nltk.corpus import stopwords\n",
        "from nltk.tokenize import sent_tokenize, word_tokenize\n",
        "from nltk.stem import WordNetLemmatizer\n",
        "\n",
        "import numpy as np\n",
        "import pandas as pd\n",
        "from matplotlib import pyplot as plt\n",
        "\n",
        "%matplotlib inline\n",
        "\n",
        "lemmatizer = WordNetLemmatizer().lemmatize"
      ],
      "execution_count": 2,
      "outputs": [
        {
          "output_type": "stream",
          "name": "stdout",
          "text": [
            "[nltk_data] Downloading package stopwords to /root/nltk_data...\n",
            "[nltk_data]   Unzipping corpora/stopwords.zip.\n",
            "[nltk_data] Downloading package wordnet to /root/nltk_data...\n",
            "[nltk_data]   Unzipping corpora/wordnet.zip.\n",
            "[nltk_data] Downloading package punkt to /root/nltk_data...\n",
            "[nltk_data]   Unzipping tokenizers/punkt.zip.\n"
          ]
        }
      ]
    },
    {
      "cell_type": "markdown",
      "metadata": {
        "id": "3mFjymkUXzdI"
      },
      "source": [
        "## **2. Load dataset (\"corpus\")**"
      ]
    },
    {
      "cell_type": "code",
      "metadata": {
        "id": "qmRoBfC_XzdL",
        "outputId": "9425e26a-bf2a-4441-d634-87ada773f7a2",
        "colab": {
          "base_uri": "https://localhost:8080/"
        }
      },
      "source": [
        "if COLAB:\n",
        "    from google_drive_downloader import GoogleDriveDownloader as gdd\n",
        "    gdd.download_file_from_google_drive(file_id='13olP14Jro0vbAMVvHRQOr0rwtiRwCXZk',\n",
        "                                        dest_path=\"datasets/reporting_complaints.csv.zip\",\n",
        "                                        unzip=True)\n",
        "\n",
        "# Read the input\n",
        "df = pd.read_csv(\"./datasets/reporting_complaints.csv\") # the dataset is loaded into a Pandas DataFrame\n",
        "df = df[(df[\"product\"]==\"Mortgage\") | (df[\"product\"]==\"Credit card\")].reset_index(drop=True)\n",
        "\n",
        "# Para simplificar el análisis me centro en dos clases:\n",
        "\n",
        "print(df.shape)"
      ],
      "execution_count": 3,
      "outputs": [
        {
          "output_type": "stream",
          "name": "stdout",
          "text": [
            "Downloading 13olP14Jro0vbAMVvHRQOr0rwtiRwCXZk into datasets/reporting_complaints.csv.zip... Done.\n",
            "Unzipping...Done.\n",
            "(10000, 2)\n"
          ]
        }
      ]
    },
    {
      "cell_type": "code",
      "metadata": {
        "id": "n4NSnAuDXzdR",
        "outputId": "c7fe87b8-a47e-42df-c259-8071887469d0",
        "colab": {
          "base_uri": "https://localhost:8080/",
          "height": 677
        }
      },
      "source": [
        "df.sample(20) # opendata.gov"
      ],
      "execution_count": 4,
      "outputs": [
        {
          "output_type": "execute_result",
          "data": {
            "text/html": [
              "\n",
              "  <div id=\"df-81f269b7-77a4-4ca1-9f87-6e2616f76114\">\n",
              "    <div class=\"colab-df-container\">\n",
              "      <div>\n",
              "<style scoped>\n",
              "    .dataframe tbody tr th:only-of-type {\n",
              "        vertical-align: middle;\n",
              "    }\n",
              "\n",
              "    .dataframe tbody tr th {\n",
              "        vertical-align: top;\n",
              "    }\n",
              "\n",
              "    .dataframe thead th {\n",
              "        text-align: right;\n",
              "    }\n",
              "</style>\n",
              "<table border=\"1\" class=\"dataframe\">\n",
              "  <thead>\n",
              "    <tr style=\"text-align: right;\">\n",
              "      <th></th>\n",
              "      <th>consumer_complaint_narrative</th>\n",
              "      <th>product</th>\n",
              "    </tr>\n",
              "  </thead>\n",
              "  <tbody>\n",
              "    <tr>\n",
              "      <th>4720</th>\n",
              "      <td>I had a Citi Card XXXX account the balance for...</td>\n",
              "      <td>Credit card</td>\n",
              "    </tr>\n",
              "    <tr>\n",
              "      <th>9504</th>\n",
              "      <td>A short sale was initiated with Wells Fargo th...</td>\n",
              "      <td>Mortgage</td>\n",
              "    </tr>\n",
              "    <tr>\n",
              "      <th>5331</th>\n",
              "      <td>On XXXX XXXX, 2014 I received a letter from Su...</td>\n",
              "      <td>Mortgage</td>\n",
              "    </tr>\n",
              "    <tr>\n",
              "      <th>3138</th>\n",
              "      <td>I recently changed my name ( for personal reas...</td>\n",
              "      <td>Credit card</td>\n",
              "    </tr>\n",
              "    <tr>\n",
              "      <th>6453</th>\n",
              "      <td>My escrow payment increased significantly from...</td>\n",
              "      <td>Mortgage</td>\n",
              "    </tr>\n",
              "    <tr>\n",
              "      <th>2833</th>\n",
              "      <td>Citi Bank, the issuer of my XXXX credit card, ...</td>\n",
              "      <td>Credit card</td>\n",
              "    </tr>\n",
              "    <tr>\n",
              "      <th>5901</th>\n",
              "      <td>Back in XX/XX/XXXX my Mom XXXX XXXX and I ( XX...</td>\n",
              "      <td>Mortgage</td>\n",
              "    </tr>\n",
              "    <tr>\n",
              "      <th>5631</th>\n",
              "      <td>I have my 30 year fixed mortgage at 5.5 % with...</td>\n",
              "      <td>Mortgage</td>\n",
              "    </tr>\n",
              "    <tr>\n",
              "      <th>3450</th>\n",
              "      <td>I called American Express to get a lower APR. ...</td>\n",
              "      <td>Credit card</td>\n",
              "    </tr>\n",
              "    <tr>\n",
              "      <th>5246</th>\n",
              "      <td>This is a continuation of a complaint I filed ...</td>\n",
              "      <td>Mortgage</td>\n",
              "    </tr>\n",
              "    <tr>\n",
              "      <th>6248</th>\n",
              "      <td>In XXXX my mother was clinically diagnosed wit...</td>\n",
              "      <td>Mortgage</td>\n",
              "    </tr>\n",
              "    <tr>\n",
              "      <th>3969</th>\n",
              "      <td>XX/XX/XXXX2015XXXX XXXX XXXX XXXX XXXX XXXX VA...</td>\n",
              "      <td>Credit card</td>\n",
              "    </tr>\n",
              "    <tr>\n",
              "      <th>9713</th>\n",
              "      <td>Re : loan modification application with Select...</td>\n",
              "      <td>Mortgage</td>\n",
              "    </tr>\n",
              "    <tr>\n",
              "      <th>2526</th>\n",
              "      <td>I purchased a lawnmower from a dealer XXXX nd ...</td>\n",
              "      <td>Credit card</td>\n",
              "    </tr>\n",
              "    <tr>\n",
              "      <th>50</th>\n",
              "      <td>XX/XX/XXXX A XXXX service offered me a CareCre...</td>\n",
              "      <td>Credit card</td>\n",
              "    </tr>\n",
              "    <tr>\n",
              "      <th>2304</th>\n",
              "      <td>Care credit charged me interest when supose to...</td>\n",
              "      <td>Credit card</td>\n",
              "    </tr>\n",
              "    <tr>\n",
              "      <th>8505</th>\n",
              "      <td>I received an e-mail yesterday at XXXX from Co...</td>\n",
              "      <td>Mortgage</td>\n",
              "    </tr>\n",
              "    <tr>\n",
              "      <th>2907</th>\n",
              "      <td>I received a letter from Synchrony Bank XXXX o...</td>\n",
              "      <td>Credit card</td>\n",
              "    </tr>\n",
              "    <tr>\n",
              "      <th>7765</th>\n",
              "      <td>1. I have a FHA loan on my home purchased XXXX...</td>\n",
              "      <td>Mortgage</td>\n",
              "    </tr>\n",
              "    <tr>\n",
              "      <th>5710</th>\n",
              "      <td>I am a XXXX year old man trying to hold on to ...</td>\n",
              "      <td>Mortgage</td>\n",
              "    </tr>\n",
              "  </tbody>\n",
              "</table>\n",
              "</div>\n",
              "      <button class=\"colab-df-convert\" onclick=\"convertToInteractive('df-81f269b7-77a4-4ca1-9f87-6e2616f76114')\"\n",
              "              title=\"Convert this dataframe to an interactive table.\"\n",
              "              style=\"display:none;\">\n",
              "        \n",
              "  <svg xmlns=\"http://www.w3.org/2000/svg\" height=\"24px\"viewBox=\"0 0 24 24\"\n",
              "       width=\"24px\">\n",
              "    <path d=\"M0 0h24v24H0V0z\" fill=\"none\"/>\n",
              "    <path d=\"M18.56 5.44l.94 2.06.94-2.06 2.06-.94-2.06-.94-.94-2.06-.94 2.06-2.06.94zm-11 1L8.5 8.5l.94-2.06 2.06-.94-2.06-.94L8.5 2.5l-.94 2.06-2.06.94zm10 10l.94 2.06.94-2.06 2.06-.94-2.06-.94-.94-2.06-.94 2.06-2.06.94z\"/><path d=\"M17.41 7.96l-1.37-1.37c-.4-.4-.92-.59-1.43-.59-.52 0-1.04.2-1.43.59L10.3 9.45l-7.72 7.72c-.78.78-.78 2.05 0 2.83L4 21.41c.39.39.9.59 1.41.59.51 0 1.02-.2 1.41-.59l7.78-7.78 2.81-2.81c.8-.78.8-2.07 0-2.86zM5.41 20L4 18.59l7.72-7.72 1.47 1.35L5.41 20z\"/>\n",
              "  </svg>\n",
              "      </button>\n",
              "      \n",
              "  <style>\n",
              "    .colab-df-container {\n",
              "      display:flex;\n",
              "      flex-wrap:wrap;\n",
              "      gap: 12px;\n",
              "    }\n",
              "\n",
              "    .colab-df-convert {\n",
              "      background-color: #E8F0FE;\n",
              "      border: none;\n",
              "      border-radius: 50%;\n",
              "      cursor: pointer;\n",
              "      display: none;\n",
              "      fill: #1967D2;\n",
              "      height: 32px;\n",
              "      padding: 0 0 0 0;\n",
              "      width: 32px;\n",
              "    }\n",
              "\n",
              "    .colab-df-convert:hover {\n",
              "      background-color: #E2EBFA;\n",
              "      box-shadow: 0px 1px 2px rgba(60, 64, 67, 0.3), 0px 1px 3px 1px rgba(60, 64, 67, 0.15);\n",
              "      fill: #174EA6;\n",
              "    }\n",
              "\n",
              "    [theme=dark] .colab-df-convert {\n",
              "      background-color: #3B4455;\n",
              "      fill: #D2E3FC;\n",
              "    }\n",
              "\n",
              "    [theme=dark] .colab-df-convert:hover {\n",
              "      background-color: #434B5C;\n",
              "      box-shadow: 0px 1px 3px 1px rgba(0, 0, 0, 0.15);\n",
              "      filter: drop-shadow(0px 1px 2px rgba(0, 0, 0, 0.3));\n",
              "      fill: #FFFFFF;\n",
              "    }\n",
              "  </style>\n",
              "\n",
              "      <script>\n",
              "        const buttonEl =\n",
              "          document.querySelector('#df-81f269b7-77a4-4ca1-9f87-6e2616f76114 button.colab-df-convert');\n",
              "        buttonEl.style.display =\n",
              "          google.colab.kernel.accessAllowed ? 'block' : 'none';\n",
              "\n",
              "        async function convertToInteractive(key) {\n",
              "          const element = document.querySelector('#df-81f269b7-77a4-4ca1-9f87-6e2616f76114');\n",
              "          const dataTable =\n",
              "            await google.colab.kernel.invokeFunction('convertToInteractive',\n",
              "                                                     [key], {});\n",
              "          if (!dataTable) return;\n",
              "\n",
              "          const docLinkHtml = 'Like what you see? Visit the ' +\n",
              "            '<a target=\"_blank\" href=https://colab.research.google.com/notebooks/data_table.ipynb>data table notebook</a>'\n",
              "            + ' to learn more about interactive tables.';\n",
              "          element.innerHTML = '';\n",
              "          dataTable['output_type'] = 'display_data';\n",
              "          await google.colab.output.renderOutput(dataTable, element);\n",
              "          const docLink = document.createElement('div');\n",
              "          docLink.innerHTML = docLinkHtml;\n",
              "          element.appendChild(docLink);\n",
              "        }\n",
              "      </script>\n",
              "    </div>\n",
              "  </div>\n",
              "  "
            ],
            "text/plain": [
              "                           consumer_complaint_narrative      product\n",
              "4720  I had a Citi Card XXXX account the balance for...  Credit card\n",
              "9504  A short sale was initiated with Wells Fargo th...     Mortgage\n",
              "5331  On XXXX XXXX, 2014 I received a letter from Su...     Mortgage\n",
              "3138  I recently changed my name ( for personal reas...  Credit card\n",
              "6453  My escrow payment increased significantly from...     Mortgage\n",
              "2833  Citi Bank, the issuer of my XXXX credit card, ...  Credit card\n",
              "5901  Back in XX/XX/XXXX my Mom XXXX XXXX and I ( XX...     Mortgage\n",
              "5631  I have my 30 year fixed mortgage at 5.5 % with...     Mortgage\n",
              "3450  I called American Express to get a lower APR. ...  Credit card\n",
              "5246  This is a continuation of a complaint I filed ...     Mortgage\n",
              "6248  In XXXX my mother was clinically diagnosed wit...     Mortgage\n",
              "3969  XX/XX/XXXX2015XXXX XXXX XXXX XXXX XXXX XXXX VA...  Credit card\n",
              "9713  Re : loan modification application with Select...     Mortgage\n",
              "2526  I purchased a lawnmower from a dealer XXXX nd ...  Credit card\n",
              "50    XX/XX/XXXX A XXXX service offered me a CareCre...  Credit card\n",
              "2304  Care credit charged me interest when supose to...  Credit card\n",
              "8505  I received an e-mail yesterday at XXXX from Co...     Mortgage\n",
              "2907  I received a letter from Synchrony Bank XXXX o...  Credit card\n",
              "7765  1. I have a FHA loan on my home purchased XXXX...     Mortgage\n",
              "5710  I am a XXXX year old man trying to hold on to ...     Mortgage"
            ]
          },
          "metadata": {},
          "execution_count": 4
        }
      ]
    },
    {
      "cell_type": "code",
      "metadata": {
        "id": "EgOryabMXzdZ",
        "outputId": "67d747ee-9d83-44b9-d60e-06e701adfe18",
        "colab": {
          "base_uri": "https://localhost:8080/"
        }
      },
      "source": [
        "df['product'].value_counts()"
      ],
      "execution_count": 5,
      "outputs": [
        {
          "output_type": "execute_result",
          "data": {
            "text/plain": [
              "Mortgage       5000\n",
              "Credit card    5000\n",
              "Name: product, dtype: int64"
            ]
          },
          "metadata": {},
          "execution_count": 5
        }
      ]
    },
    {
      "cell_type": "code",
      "metadata": {
        "id": "GnN65qg_Xzdh",
        "outputId": "20a1c327-c8d0-4e53-de0c-7da292fced34",
        "colab": {
          "base_uri": "https://localhost:8080/"
        }
      },
      "source": [
        "narratives = list(df['consumer_complaint_narrative'])\n",
        "labels = np.array(df['product'])\n",
        "print(\"Number of narratives: {}\".format(len(narratives)))"
      ],
      "execution_count": 6,
      "outputs": [
        {
          "output_type": "stream",
          "name": "stdout",
          "text": [
            "Number of narratives: 10000\n"
          ]
        }
      ]
    },
    {
      "cell_type": "code",
      "metadata": {
        "id": "DV0tVK0tXzdm",
        "outputId": "4a3b2ccf-a026-410d-831c-fef9dad20ce0",
        "colab": {
          "base_uri": "https://localhost:8080/"
        }
      },
      "source": [
        "case = 2\n",
        "print(\"Type of product:\", labels[case])\n",
        "print(narratives[case])"
      ],
      "execution_count": 7,
      "outputs": [
        {
          "output_type": "stream",
          "name": "stdout",
          "text": [
            "Type of product: Credit card\n",
            "Consumer serviceMy problem is that this Synchrony Bank XXXX XXXX did not apply my payment to the higher interest account instead it was a applied to thelower interest account ( Balance before payment {$1500.00} after the payment {$590.00} ) The higher interest account did not go down remains the same {$4700.00} I have continued making the payments on this account never having any late payment. \r\n",
            "I had talked to the customer service dept before I made the payment they she assured me that the payment would beapplied to the higher interest account since I had already paid the payment due on the lower interest account. Needless to say they applied thefull {$1000.00} to the lower interest account. I have called them regarding this issue they explained that they had applied the payment to thehigher interest account which they did not. I sent a letter showing them prove they did not do what was promised. Hope you can helpwith this dishonest practice they want to charge the customers the higher interest of 23.99 % on the account. The lower interest of 4.99 % wasa promotion they offered for the life of the loan. \r\n",
            "Thank you for your time, XXXX XXXXXXXXXXXX XXXX, FL XXXX XXXX XXXX \r\n",
            "\n"
          ]
        }
      ]
    },
    {
      "cell_type": "markdown",
      "metadata": {
        "id": "8UX2vUI2Xzds"
      },
      "source": [
        "## **3. Preprocessing**"
      ]
    },
    {
      "cell_type": "markdown",
      "metadata": {
        "id": "jNrvenuZXzdv"
      },
      "source": [
        "## **Training-test split**"
      ]
    },
    {
      "cell_type": "code",
      "metadata": {
        "id": "WMs3YurmXzdx",
        "outputId": "cfb0ba51-f691-4fd2-d867-cd0cc7d0efe0",
        "colab": {
          "base_uri": "https://localhost:8080/"
        }
      },
      "source": [
        "from sklearn.model_selection import train_test_split\n",
        "\n",
        "narratives_tr, narratives_te, y_tr, y_te = train_test_split(narratives, labels,\n",
        "                                                            test_size=0.3, random_state=1)\n",
        "\n",
        "print(\"Number of training examples: {}. Number of test examples: {}\".format(len(narratives_tr), len(narratives_te)))"
      ],
      "execution_count": 9,
      "outputs": [
        {
          "output_type": "stream",
          "name": "stdout",
          "text": [
            "Number of training examples: 7000. Number of test examples: 3000\n"
          ]
        }
      ]
    },
    {
      "cell_type": "markdown",
      "metadata": {
        "id": "9TXg0W-PXzd6"
      },
      "source": [
        "### **Creation / load of stopwords list**"
      ]
    },
    {
      "cell_type": "markdown",
      "source": [
        "Las stopwords son las palabras que no nos aportan info y queremos eliminar."
      ],
      "metadata": {
        "id": "Fx5LYZy0sOAK"
      }
    },
    {
      "cell_type": "code",
      "metadata": {
        "id": "NT33S2_JXzd9",
        "outputId": "d2cbd90a-aba9-4e1c-bdcf-f2607d5e29b4",
        "colab": {
          "base_uri": "https://localhost:8080/"
        }
      },
      "source": [
        "stop_words = stopwords.words('english')\n",
        "stop_words = set(stop_words) # search in sets is much faster in python\n",
        "\n",
        "for i in range(1,21):\n",
        "    stop_words.add(i*'x')\n",
        "print(sorted(stop_words)) # alphabetical sort"
      ],
      "execution_count": 10,
      "outputs": [
        {
          "output_type": "stream",
          "name": "stdout",
          "text": [
            "['a', 'about', 'above', 'after', 'again', 'against', 'ain', 'all', 'am', 'an', 'and', 'any', 'are', 'aren', \"aren't\", 'as', 'at', 'be', 'because', 'been', 'before', 'being', 'below', 'between', 'both', 'but', 'by', 'can', 'couldn', \"couldn't\", 'd', 'did', 'didn', \"didn't\", 'do', 'does', 'doesn', \"doesn't\", 'doing', 'don', \"don't\", 'down', 'during', 'each', 'few', 'for', 'from', 'further', 'had', 'hadn', \"hadn't\", 'has', 'hasn', \"hasn't\", 'have', 'haven', \"haven't\", 'having', 'he', 'her', 'here', 'hers', 'herself', 'him', 'himself', 'his', 'how', 'i', 'if', 'in', 'into', 'is', 'isn', \"isn't\", 'it', \"it's\", 'its', 'itself', 'just', 'll', 'm', 'ma', 'me', 'mightn', \"mightn't\", 'more', 'most', 'mustn', \"mustn't\", 'my', 'myself', 'needn', \"needn't\", 'no', 'nor', 'not', 'now', 'o', 'of', 'off', 'on', 'once', 'only', 'or', 'other', 'our', 'ours', 'ourselves', 'out', 'over', 'own', 're', 's', 'same', 'shan', \"shan't\", 'she', \"she's\", 'should', \"should've\", 'shouldn', \"shouldn't\", 'so', 'some', 'such', 't', 'than', 'that', \"that'll\", 'the', 'their', 'theirs', 'them', 'themselves', 'then', 'there', 'these', 'they', 'this', 'those', 'through', 'to', 'too', 'under', 'until', 'up', 've', 'very', 'was', 'wasn', \"wasn't\", 'we', 'were', 'weren', \"weren't\", 'what', 'when', 'where', 'which', 'while', 'who', 'whom', 'why', 'will', 'with', 'won', \"won't\", 'wouldn', \"wouldn't\", 'x', 'xx', 'xxx', 'xxxx', 'xxxxx', 'xxxxxx', 'xxxxxxx', 'xxxxxxxx', 'xxxxxxxxx', 'xxxxxxxxxx', 'xxxxxxxxxxx', 'xxxxxxxxxxxx', 'xxxxxxxxxxxxx', 'xxxxxxxxxxxxxx', 'xxxxxxxxxxxxxxx', 'xxxxxxxxxxxxxxxx', 'xxxxxxxxxxxxxxxxx', 'xxxxxxxxxxxxxxxxxx', 'xxxxxxxxxxxxxxxxxxx', 'xxxxxxxxxxxxxxxxxxxx', 'y', 'you', \"you'd\", \"you'll\", \"you're\", \"you've\", 'your', 'yours', 'yourself', 'yourselves']\n"
          ]
        }
      ]
    },
    {
      "cell_type": "markdown",
      "metadata": {
        "id": "jVsbsOtZXzeC"
      },
      "source": [
        "### **Punctuation marks**"
      ]
    },
    {
      "cell_type": "code",
      "metadata": {
        "id": "7VVVAFHTXzeE",
        "outputId": "72120e61-c68f-4dc8-ccc0-50fea7f96872",
        "colab": {
          "base_uri": "https://localhost:8080/"
        }
      },
      "source": [
        "from string import punctuation\n",
        "punctuation_marks = set(punctuation)\n",
        "print(punctuation_marks)"
      ],
      "execution_count": 11,
      "outputs": [
        {
          "output_type": "stream",
          "name": "stdout",
          "text": [
            "{':', '@', '`', '#', '.', \"'\", '!', '$', '%', ',', ']', '^', '<', '\\\\', '}', '?', '-', '{', '|', '/', '\"', '+', '[', '_', '>', '(', '=', '&', '~', ')', '*', ';'}\n"
          ]
        }
      ]
    },
    {
      "cell_type": "code",
      "metadata": {
        "id": "TucH6Y-EXzeI",
        "outputId": "f945fdb7-9ba0-4b50-f85a-c182dcc794d5",
        "colab": {
          "base_uri": "https://localhost:8080/"
        }
      },
      "source": [
        "stop_words_and_punctuation = stop_words.union(punctuation_marks)\n",
        "print(stop_words_and_punctuation)"
      ],
      "execution_count": 12,
      "outputs": [
        {
          "output_type": "stream",
          "name": "stdout",
          "text": [
            "{'didn', 'same', 'were', 'have', '@', 'into', 'by', 'll', 'now', 'during', 'yourself', 'further', \"you'd\", 'myself', 'nor', 'xxxxxxxxxxxxxx', 'xxxxxxxxxxxxxxxxx', 'up', 'there', '$', ',', 're', 've', ']', '^', 'or', 'does', 'my', \"couldn't\", 'xxxxxxxxxxxxxxx', 'most', 'you', 'while', 'until', 'few', 'hadn', '?', 'this', 'which', \"it's\", 'whom', '-', 'did', '|', \"shouldn't\", 'been', 'both', 'no', 'only', 'again', '/', 'her', 'if', 'so', 'than', '_', '(', 'how', 'under', ')', 'over', 'own', 'xxxxxxxxxxxxxxxx', ':', 'hers', 'having', 'wasn', 'at', 'with', 'ain', 'd', '.', 'because', 'isn', 'i', 'xx', \"'\", 'for', '<', 'hasn', 'an', \"doesn't\", 'them', 'shouldn', '\\\\', '}', 'xxxxxx', 'their', 'below', 'who', 'once', 'very', 'off', 'all', 'yours', 'before', 'was', 'am', 'has', 'other', 'not', 'xxxxxxxxxx', 'xxxxxxxxxxxxx', 'they', 'being', 'as', 'had', 'ourselves', 'the', 'herself', '&', 't', 'be', 'mustn', 'xxxxxxxxxxxxxxxxxxxx', '~', ';', 'haven', 'of', 'she', 'xxxxxxxxxxxxxxxxxx', 'just', 'needn', '`', 'more', 'xxxxxxxxxxx', \"hadn't\", 'that', 'those', 'shan', \"needn't\", 'his', 'out', 'weren', 'too', '%', \"should've\", \"shan't\", 'through', 'where', 'don', \"won't\", \"that'll\", 'from', 'mightn', \"she's\", 'will', \"haven't\", 'can', 'against', 'ma', 'x', 'what', 'each', '{', 'ours', 'should', 'itself', '\"', 'are', 'themselves', 'between', '[', 'our', '>', 'y', 'o', 'do', '=', 'its', 'a', 'm', 'these', 'here', '*', 'such', \"hasn't\", \"mustn't\", 'xxxxxxxxx', \"wasn't\", 'xxxxxxxxxxxxxxxxxxx', 'above', 'in', 'after', 'doing', '#', \"you've\", 'down', 'some', \"wouldn't\", 'xxxxx', '!', \"you're\", 'yourselves', 'and', \"isn't\", 'xxxxxxxx', 'then', 's', 'xxxxxxx', 'it', 'about', 'why', \"mightn't\", \"didn't\", 'we', 'doesn', \"you'll\", 'to', 'theirs', 'on', 'when', 'wouldn', 'him', 'your', \"weren't\", 'any', '+', \"don't\", 'couldn', 'he', 'me', 'himself', 'won', \"aren't\", 'xxx', 'xxxx', 'aren', 'xxxxxxxxxxxx', 'is', 'but'}\n"
          ]
        }
      ]
    },
    {
      "cell_type": "markdown",
      "metadata": {
        "id": "qakEH1I_XzeO"
      },
      "source": [
        "### **Lemmatizer**"
      ]
    },
    {
      "cell_type": "code",
      "metadata": {
        "id": "ojuMvPNfXzeQ",
        "outputId": "0d1753a8-3048-49cf-fa8a-9d0154d333fb",
        "colab": {
          "base_uri": "https://localhost:8080/"
        }
      },
      "source": [
        "print(lemmatizer('song'))\n",
        "print(lemmatizer('songs'))\n",
        "print()\n",
        "print(lemmatizer('sings'))\n",
        "print(lemmatizer('sings', pos='v'))\n",
        "print(lemmatizer('sings', pos='n'))"
      ],
      "execution_count": 13,
      "outputs": [
        {
          "output_type": "stream",
          "name": "stdout",
          "text": [
            "song\n",
            "song\n",
            "\n",
            "sings\n",
            "sing\n",
            "sings\n"
          ]
        }
      ]
    },
    {
      "cell_type": "markdown",
      "metadata": {
        "id": "D9wwPrLhXzeV"
      },
      "source": [
        "### **Stemmer**"
      ]
    },
    {
      "cell_type": "code",
      "metadata": {
        "id": "PDqySzrpXzeX",
        "outputId": "b37ead42-069d-4001-bfc4-4c76d74659de",
        "colab": {
          "base_uri": "https://localhost:8080/"
        }
      },
      "source": [
        "from nltk.stem import PorterStemmer, SnowballStemmer, LancasterStemmer\n",
        "stemmer = PorterStemmer().stem\n",
        "print(stemmer('walking'))\n",
        "print(stemmer('walked'))\n",
        "print(stemmer('walks'))"
      ],
      "execution_count": 14,
      "outputs": [
        {
          "output_type": "stream",
          "name": "stdout",
          "text": [
            "walk\n",
            "walk\n",
            "walk\n"
          ]
        }
      ]
    },
    {
      "cell_type": "code",
      "metadata": {
        "id": "fBK5IebLXzeb"
      },
      "source": [
        "def tokenizer(s, stop_words=[], lowercase=True,\n",
        "              keep_sentences=False, min_word_len=1,\n",
        "              lemmatize=False, stem=False):\n",
        "    tokens = []\n",
        "    if lowercase:\n",
        "        s = s.lower() # downcase\n",
        "    for sentence in sent_tokenize(s):\n",
        "        ts = word_tokenize(sentence) # split string into words (tokens)\n",
        "        ts = [t for t in ts if len(t) >= min_word_len] # remove very short words\n",
        "        ts = [t for t in ts if t not in stop_words] # remove stop_words\n",
        "        if lemmatize:\n",
        "            ts = [lemmatizer(t) for t in ts] # put words into base form\n",
        "        if stem:\n",
        "            ts = [stemmer(t) for t in ts]\n",
        "        if keep_sentences:\n",
        "            tokens.append(ts)\n",
        "        else:\n",
        "            tokens.extend(ts)\n",
        "    return tokens"
      ],
      "execution_count": 15,
      "outputs": []
    },
    {
      "cell_type": "code",
      "metadata": {
        "id": "T8-xqepTXzeg",
        "outputId": "a77a4d79-fab1-453f-cd46-e05981378e32",
        "colab": {
          "base_uri": "https://localhost:8080/",
          "height": 87
        }
      },
      "source": [
        "case = 2\n",
        "text = narratives_tr[case]\n",
        "text"
      ],
      "execution_count": 16,
      "outputs": [
        {
          "output_type": "execute_result",
          "data": {
            "application/vnd.google.colaboratory.intrinsic+json": {
              "type": "string"
            },
            "text/plain": [
              "'I have a credit card account with Best Buy and their processing issue caused my payment to show up as late even though I provided proof that I sent the automatic payment within the needed time frame just as I had for the previous year. They have added negative items to my credit report due to their error and I would like them removed. I feel that their business practices made it so that my payment would show as late and they could collect a late fee they were not entitled too. \\r\\n'"
            ]
          },
          "metadata": {},
          "execution_count": 16
        }
      ]
    },
    {
      "cell_type": "code",
      "metadata": {
        "id": "zOL-Q-vDXzek",
        "outputId": "2a312333-5dd7-435c-d365-31a5f53a2633",
        "colab": {
          "base_uri": "https://localhost:8080/"
        }
      },
      "source": [
        "print(tokenizer(text, keep_sentences=False), \"\\n\")\n",
        "\n",
        "print(tokenizer(text, stop_words=stop_words_and_punctuation,\n",
        "                min_word_len = 3), \"\\n\")\n",
        "\n",
        "print(tokenizer(text, stop_words=stop_words_and_punctuation,\n",
        "                min_word_len = 3, lemmatize=True, stem=True), \"\\n\")"
      ],
      "execution_count": 19,
      "outputs": [
        {
          "output_type": "stream",
          "name": "stdout",
          "text": [
            "['i', 'have', 'a', 'credit', 'card', 'account', 'with', 'best', 'buy', 'and', 'their', 'processing', 'issue', 'caused', 'my', 'payment', 'to', 'show', 'up', 'as', 'late', 'even', 'though', 'i', 'provided', 'proof', 'that', 'i', 'sent', 'the', 'automatic', 'payment', 'within', 'the', 'needed', 'time', 'frame', 'just', 'as', 'i', 'had', 'for', 'the', 'previous', 'year', '.', 'they', 'have', 'added', 'negative', 'items', 'to', 'my', 'credit', 'report', 'due', 'to', 'their', 'error', 'and', 'i', 'would', 'like', 'them', 'removed', '.', 'i', 'feel', 'that', 'their', 'business', 'practices', 'made', 'it', 'so', 'that', 'my', 'payment', 'would', 'show', 'as', 'late', 'and', 'they', 'could', 'collect', 'a', 'late', 'fee', 'they', 'were', 'not', 'entitled', 'too', '.'] \n",
            "\n",
            "['credit', 'card', 'account', 'best', 'buy', 'processing', 'issue', 'caused', 'payment', 'show', 'late', 'even', 'though', 'provided', 'proof', 'sent', 'automatic', 'payment', 'within', 'needed', 'time', 'frame', 'previous', 'year', 'added', 'negative', 'items', 'credit', 'report', 'due', 'error', 'would', 'like', 'removed', 'feel', 'business', 'practices', 'made', 'payment', 'would', 'show', 'late', 'could', 'collect', 'late', 'fee', 'entitled'] \n",
            "\n",
            "['credit', 'card', 'account', 'best', 'buy', 'process', 'issu', 'caus', 'payment', 'show', 'late', 'even', 'though', 'provid', 'proof', 'sent', 'automat', 'payment', 'within', 'need', 'time', 'frame', 'previou', 'year', 'ad', 'neg', 'item', 'credit', 'report', 'due', 'error', 'would', 'like', 'remov', 'feel', 'busi', 'practic', 'made', 'payment', 'would', 'show', 'late', 'could', 'collect', 'late', 'fee', 'entitl'] \n",
            "\n"
          ]
        }
      ]
    },
    {
      "cell_type": "markdown",
      "metadata": {
        "collapsed": true,
        "id": "jcwO1q7rXzep"
      },
      "source": [
        "### **Now we preprocess all documents**"
      ]
    },
    {
      "cell_type": "code",
      "metadata": {
        "id": "Mjhhd2WKXzeq"
      },
      "source": [
        "def preprocess_documents(texts):\n",
        "    return [' '.join(tokenizer(text,\n",
        "                               stop_words=stop_words_and_punctuation,\n",
        "#                               lemmatize=True, stem=True,\n",
        "                               min_word_len = 3))\n",
        "            for text in texts]"
      ],
      "execution_count": 17,
      "outputs": []
    },
    {
      "cell_type": "code",
      "metadata": {
        "id": "2rruytSRXzev"
      },
      "source": [
        "examples_tr = preprocess_documents(narratives_tr)\n",
        "examples_te = preprocess_documents(narratives_te)"
      ],
      "execution_count": 20,
      "outputs": []
    },
    {
      "cell_type": "code",
      "metadata": {
        "id": "xC0nSFXTXze0",
        "outputId": "8d4df46f-747c-44e7-b3e2-a3354bc6e27d",
        "colab": {
          "base_uri": "https://localhost:8080/",
          "height": 142
        }
      },
      "source": [
        "case = 127\n",
        "\n",
        "print(narratives_tr[case],\"\\n\")\n",
        "examples_tr[case]"
      ],
      "execution_count": 21,
      "outputs": [
        {
          "output_type": "stream",
          "name": "stdout",
          "text": [
            "We are working with Wells Fargo on a police and fire ( PFRS mortgage ). The mortgage broker, XXXX XXXX, XXXX Mortgage Consultant - XXXX ID XXXX, in charge of our mortgage process failed us miserably. She was n't returning phone calls, emails and then never sent the loan confirmation to our lawyer. In addition, she was n't communicating with her own underwriters. The underwriters could n't even contact her. She was n't returning their emails or phone calls. They could n't find documents that she apparently said she had sent. She chose not to step up and apologize but rather now has been dragging her feet even more. We have a closing date for XXXX XXXX. We are unsure now that we will be able to close. Very frustrated. \r\n",
            " \n",
            "\n"
          ]
        },
        {
          "output_type": "execute_result",
          "data": {
            "application/vnd.google.colaboratory.intrinsic+json": {
              "type": "string"
            },
            "text/plain": [
              "\"working wells fargo police fire pfrs mortgage mortgage broker mortgage consultant charge mortgage process failed miserably n't returning phone calls emails never sent loan confirmation lawyer addition n't communicating underwriters underwriters could n't even contact n't returning emails phone calls could n't find documents apparently said sent chose step apologize rather dragging feet even closing date unsure able close frustrated\""
            ]
          },
          "metadata": {},
          "execution_count": 21
        }
      ]
    },
    {
      "cell_type": "markdown",
      "metadata": {
        "id": "x2Z-B__CXze3"
      },
      "source": [
        "## **4. Bag-of-words (BOW) representation**"
      ]
    },
    {
      "cell_type": "code",
      "metadata": {
        "id": "ZccxQ3lnXze4",
        "outputId": "70829521-677a-43ef-84a8-2829c24b2801",
        "colab": {
          "base_uri": "https://localhost:8080/"
        }
      },
      "source": [
        "from sklearn.feature_extraction.text import CountVectorizer, TfidfVectorizer\n",
        "TF_vectorizer = CountVectorizer(max_features=1000, stop_words=stop_words_and_punctuation)\n",
        "TF_vectorizer"
      ],
      "execution_count": 22,
      "outputs": [
        {
          "output_type": "execute_result",
          "data": {
            "text/plain": [
              "CountVectorizer(max_features=1000,\n",
              "                stop_words={'!', '\"', '#', '$', '%', '&', \"'\", '(', ')', '*',\n",
              "                            '+', ',', '-', '.', '/', ':', ';', '<', '=', '>',\n",
              "                            '?', '@', '[', '\\\\', ']', '^', '_', '`', 'a',\n",
              "                            'about', ...})"
            ]
          },
          "metadata": {},
          "execution_count": 22
        }
      ]
    },
    {
      "cell_type": "code",
      "metadata": {
        "id": "GZCjAp-YXze9"
      },
      "source": [
        "TF_vectorizer.fit(examples_tr)\n",
        "tf_tr = TF_vectorizer.transform(examples_tr)\n",
        "TF_vocabulary = TF_vectorizer.get_feature_names()"
      ],
      "execution_count": 23,
      "outputs": []
    },
    {
      "cell_type": "code",
      "metadata": {
        "id": "C9n38rz1XzfB",
        "outputId": "28ec5369-476a-47f5-955a-fd8e7284691c",
        "colab": {
          "base_uri": "https://localhost:8080/"
        }
      },
      "source": [
        "print(len(TF_vocabulary))\n",
        "print(TF_vocabulary)"
      ],
      "execution_count": 24,
      "outputs": [
        {
          "output_type": "stream",
          "name": "stdout",
          "text": [
            "1000\n",
            "['00', '10', '100', '1000', '1200', '15', '16', '200', '2000', '2013', '2014', '2015', '2016', '25', '300', '500', '75', 'ability', 'able', 'absolutely', 'accept', 'accepted', 'access', 'according', 'account', 'accounting', 'accounts', 'acct', 'accurate', 'act', 'action', 'actions', 'activity', 'actual', 'actually', 'add', 'added', 'addition', 'additional', 'address', 'advance', 'advantage', 'advise', 'advised', 'affected', 'afford', 'affordable', 'agencies', 'agency', 'agent', 'ago', 'agreed', 'agreement', 'alleged', 'allow', 'allowed', 'almost', 'along', 'already', 'also', 'although', 'always', 'america', 'american', 'amex', 'amount', 'amounts', 'annual', 'another', 'answer', 'anyone', 'anything', 'apparently', 'appeal', 'appears', 'application', 'applied', 'apply', 'applying', 'appraisal', 'approval', 'approved', 'approximately', 'apr', 'around', 'ask', 'asked', 'asking', 'assessed', 'assigned', 'assist', 'assistance', 'assured', 'attached', 'attempt', 'attempted', 'attempting', 'attempts', 'attention', 'attorney', 'auction', 'authorization', 'authorized', 'auto', 'automated', 'automatic', 'automatically', 'available', 'avoid', 'aware', 'away', 'back', 'bad', 'balance', 'balances', 'bank', 'banking', 'bankruptcy', 'banks', 'barclay', 'barclays', 'based', 'bayview', 'became', 'began', 'begin', 'beginning', 'behalf', 'behind', 'believe', 'benefit', 'benefits', 'best', 'better', 'bill', 'billed', 'billing', 'bills', 'boa', 'bonus', 'borrower', 'bought', 'branch', 'bring', 'brought', 'bureau', 'bureaus', 'business', 'buy', 'buyer', 'caliber', 'california', 'call', 'called', 'calling', 'calls', 'came', 'cancel', 'cancellation', 'cancelled', 'capital', 'car', 'card', 'cards', 'care', 'carrington', 'case', 'cash', 'cashed', 'cause', 'caused', 'cell', 'center', 'certain', 'certified', 'cfpb', 'change', 'changed', 'chapter', 'charge', 'charged', 'charges', 'charging', 'chase', 'check', 'checked', 'checking', 'checks', 'citi', 'citibank', 'citimortgage', 'claim', 'claimed', 'claiming', 'claims', 'clear', 'cleared', 'clearly', 'client', 'close', 'closed', 'closing', 'code', 'collect', 'collection', 'collections', 'come', 'coming', 'communication', 'companies', 'company', 'complain', 'complaint', 'complaints', 'complete', 'completed', 'completely', 'concern', 'concerned', 'concerns', 'conditions', 'condo', 'confirm', 'confirmation', 'confirmed', 'consent', 'consider', 'considered', 'consumer', 'consumers', 'contact', 'contacted', 'contacting', 'continue', 'continued', 'continues', 'contract', 'conversation', 'copies', 'copy', 'correct', 'corrected', 'correctly', 'correspondence', 'cost', 'costs', 'could', 'county', 'couple', 'course', 'court', 'cover', 'credit', 'credited', 'creditor', 'current', 'currently', 'customer', 'customers', 'cycle', 'damage', 'date', 'dated', 'dates', 'daughter', 'day', 'days', 'deal', 'dealing', 'debt', 'deceptive', 'decided', 'decision', 'declined', 'deed', 'default', 'delay', 'delinquency', 'delinquent', 'denial', 'denied', 'department', 'deposit', 'depot', 'dept', 'despite', 'details', 'difference', 'different', 'difficult', 'direct', 'directly', 'disclosure', 'discover', 'discovered', 'discuss', 'dispute', 'disputed', 'ditech', 'divorce', 'document', 'documentation', 'documents', 'dollars', 'done', 'dropped', 'due', 'earlier', 'early', 'either', 'electronic', 'eligible', 'else', 'email', 'emailed', 'emails', 'employee', 'employees', 'end', 'ended', 'ending', 'enough', 'entire', 'equity', 'error', 'errors', 'escrow', 'especially', 'estate', 'etc', 'even', 'ever', 'every', 'everything', 'evidence', 'except', 'experience', 'expired', 'explain', 'explained', 'explaining', 'explanation', 'express', 'extra', 'extremely', 'fact', 'failed', 'failure', 'fair', 'faith', 'false', 'family', 'far', 'fargo', 'fault', 'fax', 'faxed', 'federal', 'fee', 'feel', 'fees', 'fell', 'felt', 'fha', 'file', 'filed', 'filing', 'final', 'finally', 'finance', 'financial', 'find', 'fine', 'firm', 'first', 'fix', 'fixed', 'flood', 'follow', 'followed', 'following', 'force', 'forced', 'foreclose', 'foreclosed', 'foreclosure', 'form', 'forms', 'forward', 'found', 'fraud', 'fraudulent', 'free', 'freedom', 'full', 'fully', 'funds', 'furthermore', 'future', 'gave', 'general', 'get', 'getting', 'give', 'given', 'giving', 'going', 'gone', 'good', 'got', 'government', 'great', 'green', 'greentree', 'guidelines', 'half', 'hamp', 'happen', 'happened', 'hard', 'hardship', 'hear', 'heard', 'held', 'help', 'high', 'higher', 'history', 'hit', 'hold', 'holder', 'holding', 'home', 'homeowner', 'homeowners', 'honor', 'hope', 'hour', 'hours', 'house', 'however', 'hsbc', 'hud', 'hung', 'husband', 'idea', 'identity', 'illegal', 'immediately', 'impossible', 'inc', 'include', 'included', 'including', 'income', 'incorrect', 'increase', 'increased', 'indicated', 'info', 'inform', 'information', 'informed', 'initial', 'initially', 'inquiry', 'instead', 'insurance', 'interest', 'investigate', 'investigation', 'investor', 'involved', 'issue', 'issued', 'issues', 'item', 'items', 'job', 'keep', 'kept', 'kind', 'knew', 'know', 'knowing', 'knowledge', 'known', 'lack', 'large', 'last', 'late', 'later', 'law', 'laws', 'lawyer', 'least', 'leave', 'left', 'legal', 'lender', 'lending', 'less', 'let', 'letter', 'letters', 'lied', 'lien', 'lieu', 'life', 'like', 'limit', 'line', 'list', 'listed', 'little', 'live', 'living', 'llc', 'loan', 'loans', 'local', 'located', 'long', 'longer', 'look', 'looked', 'looking', 'lose', 'loss', 'lost', 'lot', 'low', 'lower', 'macy', 'made', 'mail', 'mailed', 'make', 'makes', 'making', 'management', 'manager', 'manner', 'many', 'market', 'matter', 'may', 'means', 'meet', 'member', 'membership', 'mention', 'mentioned', 'merchant', 'message', 'messages', 'miles', 'mine', 'minimum', 'minutes', 'missed', 'missing', 'mistake', 'mitigation', 'mod', 'modification', 'modified', 'modify', 'monday', 'money', 'month', 'monthly', 'months', 'morning', 'mortgage', 'mortgages', 'mother', 'move', 'moved', 'much', 'multiple', 'must', 'name', 'named', 'national', 'nationstar', 'nearly', 'necessary', 'need', 'needed', 'needs', 'negative', 'neither', 'never', 'new', 'next', 'night', 'non', 'none', 'note', 'notes', 'nothing', 'notice', 'noticed', 'notices', 'notification', 'notified', 'number', 'numbers', 'numerous', 'obtain', 'obtained', 'occasions', 'occurred', 'ocwen', 'offer', 'offered', 'offers', 'office', 'officer', 'old', 'one', 'online', 'open', 'opened', 'opportunity', 'option', 'options', 'order', 'ordered', 'original', 'originally', 'others', 'outstanding', 'owe', 'owed', 'owned', 'owner', 'package', 'page', 'paid', 'paper', 'papers', 'paperwork', 'part', 'party', 'passed', 'past', 'pay', 'paying', 'payment', 'payments', 'payoff', 'paypal', 'pending', 'pennymac', 'people', 'per', 'period', 'permission', 'person', 'personal', 'phone', 'place', 'placed', 'plan', 'please', 'plus', 'pmi', 'pnc', 'point', 'points', 'policy', 'portfolio', 'possible', 'post', 'posted', 'practice', 'practices', 'pre', 'predatory', 'previous', 'previously', 'price', 'primary', 'principal', 'principle', 'prior', 'problem', 'problems', 'process', 'processed', 'processing', 'product', 'program', 'promised', 'promotion', 'promotional', 'proof', 'proper', 'properly', 'property', 'protection', 'prove', 'provide', 'provided', 'providing', 'pull', 'pulled', 'purchase', 'purchased', 'purchases', 'put', 'qualified', 'qualify', 'question', 'questions', 'quicken', 'rate', 'rates', 'rather', 'rating', 'reach', 'reached', 'read', 'real', 'really', 'realtor', 'reason', 'reasonable', 'reasons', 'receipt', 'receive', 'received', 'receiving', 'recent', 'recently', 'record', 'recorded', 'records', 'reduce', 'reduced', 'reduction', 'refinance', 'refinanced', 'refinancing', 'refund', 'refunded', 'refuse', 'refused', 'refuses', 'refusing', 'regarding', 'regards', 'regular', 'rejected', 'related', 'relationship', 'release', 'remaining', 'remove', 'removed', 'rep', 'repeatedly', 'report', 'reported', 'reporting', 'reports', 'representative', 'representatives', 'request', 'requested', 'requesting', 'requests', 'required', 'requirement', 'requirements', 'research', 'resolution', 'resolve', 'resolved', 'respond', 'responded', 'response', 'responsibility', 'responsible', 'result', 'return', 'returned', 'reverse', 'reversed', 'review', 'reviewed', 'rewards', 'right', 'rights', 'rude', 'run', 'said', 'sale', 'save', 'savings', 'saw', 'say', 'saying', 'says', 'scheduled', 'score', 'sears', 'second', 'section', 'secure', 'secured', 'security', 'see', 'seem', 'seems', 'select', 'sell', 'seller', 'send', 'sending', 'sent', 'separate', 'service', 'servicer', 'services', 'servicing', 'set', 'seterus', 'settlement', 'several', 'short', 'shortage', 'show', 'showed', 'showing', 'shows', 'sign', 'signature', 'signed', 'signing', 'simply', 'since', 'single', 'site', 'situation', 'sls', 'small', 'social', 'sold', 'someone', 'something', 'son', 'soon', 'speak', 'speaking', 'specialist', 'specifically', 'spend', 'spent', 'spoke', 'spoken', 'sps', 'standing', 'start', 'started', 'starting', 'state', 'stated', 'statement', 'statements', 'states', 'stating', 'status', 'stay', 'still', 'stop', 'stopped', 'store', 'subject', 'submit', 'submitted', 'submitting', 'suntrust', 'supervisor', 'support', 'supposed', 'sure', 'synchrony', 'system', 'take', 'taken', 'takes', 'taking', 'talk', 'talked', 'talking', 'target', 'tax', 'taxes', 'telephone', 'tell', 'telling', 'terms', 'thank', 'theft', 'therefore', 'thing', 'things', 'think', 'third', 'though', 'thought', 'three', 'thru', 'thus', 'time', 'timely', 'times', 'title', 'today', 'told', 'took', 'total', 'towards', 'transaction', 'transactions', 'transfer', 'transferred', 'travel', 'tree', 'trial', 'tried', 'true', 'trust', 'trustee', 'try', 'trying', 'turn', 'turned', 'twice', 'two', 'type', 'unable', 'unauthorized', 'understand', 'understanding', 'underwriting', 'unfair', 'unfortunately', 'unless', 'update', 'updated', 'upon', 'usaa', 'use', 'used', 'using', 'valid', 'value', 'vendor', 'verified', 'verify', 'via', 'victim', 'violation', 'visa', 'wait', 'waited', 'waiting', 'want', 'wanted', 'way', 'website', 'week', 'weeks', 'well', 'wells', 'went', 'whether', 'whole', 'wife', 'willing', 'within', 'without', 'work', 'worked', 'working', 'worth', 'would', 'write', 'writing', 'written', 'wrong', 'wrote', 'year', 'years', 'yes', 'yet']\n"
          ]
        }
      ]
    },
    {
      "cell_type": "code",
      "metadata": {
        "id": "diR1R6fMXzfF",
        "outputId": "5ba7c337-468a-42a0-d317-fb94bf47f6b3",
        "colab": {
          "base_uri": "https://localhost:8080/",
          "height": 759
        }
      },
      "source": [
        "n=50\n",
        "unique_labels = np.unique(labels)\n",
        "for label in unique_labels:\n",
        "    freqs = np.array(tf_tr[y_tr==label].sum(axis=0))[0]\n",
        "    plt.figure(figsize=(15,5))\n",
        "    inds = np.argsort(freqs)[::-1]\n",
        "    plt.plot(freqs[inds[:n]])\n",
        "    plt.xticks(range(n), np.array(TF_vocabulary)[inds[:n]], rotation=75)\n",
        "    plt.title('word frequencies in complaints related to issue ' + '\"'+label+'\"', fontsize=16)"
      ],
      "execution_count": 25,
      "outputs": [
        {
          "output_type": "display_data",
          "data": {
            "image/png": "[encoded data removed]",
            "text/plain": [
              "<Figure size 1080x360 with 1 Axes>"
            ]
          },
          "metadata": {
            "needs_background": "light"
          }
        },
        {
          "output_type": "display_data",
          "data": {
            "image/png": "[encoded data removed]",
            "text/plain": [
              "<Figure size 1080x360 with 1 Axes>"
            ]
          },
          "metadata": {
            "needs_background": "light"
          }
        }
      ]
    },
    {
      "cell_type": "markdown",
      "metadata": {
        "id": "maxxAJjSXzfJ"
      },
      "source": [
        "## **TF-IDF**"
      ]
    },
    {
      "cell_type": "code",
      "metadata": {
        "id": "i6AYF6AMXzfK",
        "outputId": "98605084-9d0d-496d-f503-860c5de571b4",
        "colab": {
          "base_uri": "https://localhost:8080/"
        }
      },
      "source": [
        "TFIDF_vectorizer = TfidfVectorizer(max_features=1000, stop_words=stop_words_and_punctuation,\n",
        "                                   norm='l2')\n",
        "print(TFIDF_vectorizer)\n",
        "\n",
        "tfidf_tr = TFIDF_vectorizer.fit_transform(examples_tr)\n",
        "TFIDF_vocabulary = TFIDF_vectorizer.get_feature_names()"
      ],
      "execution_count": 26,
      "outputs": [
        {
          "output_type": "stream",
          "name": "stdout",
          "text": [
            "TfidfVectorizer(max_features=1000,\n",
            "                stop_words={'!', '\"', '#', '$', '%', '&', \"'\", '(', ')', '*',\n",
            "                            '+', ',', '-', '.', '/', ':', ';', '<', '=', '>',\n",
            "                            '?', '@', '[', '\\\\', ']', '^', '_', '`', 'a',\n",
            "                            'about', ...})\n"
          ]
        }
      ]
    },
    {
      "cell_type": "code",
      "metadata": {
        "id": "gIkhbAC3XzfO"
      },
      "source": [
        "from sklearn.feature_selection import mutual_info_classif\n",
        "\n",
        "mi = mutual_info_classif(tfidf_tr, y_tr)"
      ],
      "execution_count": 27,
      "outputs": []
    },
    {
      "cell_type": "code",
      "metadata": {
        "id": "jH_f8Sv0XzfT",
        "outputId": "6ccc1c7e-1ee5-493d-81a0-0659ee139930",
        "colab": {
          "base_uri": "https://localhost:8080/",
          "height": 368
        }
      },
      "source": [
        "n_more_informative = 500\n",
        "inds = np.argsort(-mi)\n",
        "plt.figure(figsize=(15,5))\n",
        "n_show = 50\n",
        "plt.plot(mi[inds[:n_show]])\n",
        "plt.xticks(range(1,1+n_show), np.array(TFIDF_vocabulary)[inds[:n_show]], rotation=75);"
      ],
      "execution_count": 28,
      "outputs": [
        {
          "output_type": "display_data",
          "data": {
            "image/png": "[encoded data removed]",
            "text/plain": [
              "<Figure size 1080x360 with 1 Axes>"
            ]
          },
          "metadata": {
            "needs_background": "light"
          }
        }
      ]
    },
    {
      "cell_type": "markdown",
      "metadata": {
        "collapsed": true,
        "id": "bxpFABoxXzfk"
      },
      "source": [
        "## **Principal Component Analysis**"
      ]
    },
    {
      "cell_type": "code",
      "metadata": {
        "id": "uHxhUnjjXzfm"
      },
      "source": [
        "tfidf_tr_dense = tfidf_tr.todense()"
      ],
      "execution_count": 29,
      "outputs": []
    },
    {
      "cell_type": "code",
      "metadata": {
        "id": "Pr0A0zX5Hldt",
        "outputId": "7d3e2b49-694b-43d1-e880-785706ef81f7",
        "colab": {
          "base_uri": "https://localhost:8080/"
        }
      },
      "source": [
        "tfidf_tr_dense.shape"
      ],
      "execution_count": 30,
      "outputs": [
        {
          "output_type": "execute_result",
          "data": {
            "text/plain": [
              "(7000, 1000)"
            ]
          },
          "metadata": {},
          "execution_count": 30
        }
      ]
    },
    {
      "cell_type": "code",
      "metadata": {
        "id": "6IbGnw5MXzfp",
        "outputId": "2bd3f78e-d398-417d-d883-58ae8fb9b9e8",
        "colab": {
          "base_uri": "https://localhost:8080/"
        }
      },
      "source": [
        "tfidf_tr_dense.shape"
      ],
      "execution_count": 31,
      "outputs": [
        {
          "output_type": "execute_result",
          "data": {
            "text/plain": [
              "(7000, 1000)"
            ]
          },
          "metadata": {},
          "execution_count": 31
        }
      ]
    },
    {
      "cell_type": "code",
      "metadata": {
        "id": "Qmr4yyslXzfs"
      },
      "source": [
        "from sklearn.decomposition import PCA\n",
        "from sklearn.preprocessing import StandardScaler\n",
        "\n",
        "pca_docs = PCA(n_components=100)\n",
        "sc = StandardScaler()\n",
        "sc.fit(tfidf_tr_dense)\n",
        "#aux = sc.transform(tfidf_tr_dense)\n",
        "aux = tfidf_tr_dense\n",
        "pca_docs.fit(aux)\n",
        "doc_vecs_tr  = pca_docs.transform(aux)\n",
        "\n",
        "pca_words = PCA(n_components=100)\n",
        "pca_words.fit(aux)\n",
        "sc2 = StandardScaler()\n",
        "sc2.fit(tfidf_tr_dense.T)\n",
        "#aux2 = sc2.transform(tfidf_tr_dense.T)\n",
        "aux2 = tfidf_tr_dense.T\n",
        "pca_words.fit(aux2)\n",
        "word_vecs = pca_words.transform(aux2)"
      ],
      "execution_count": 32,
      "outputs": []
    },
    {
      "cell_type": "code",
      "metadata": {
        "id": "BEhKfkhzXzfw",
        "outputId": "e716e8f5-41fa-49fc-cdb7-af4eff6643ac",
        "colab": {
          "base_uri": "https://localhost:8080/"
        }
      },
      "source": [
        "print(doc_vecs_tr.shape)\n",
        "print(word_vecs.shape)"
      ],
      "execution_count": 33,
      "outputs": [
        {
          "output_type": "stream",
          "name": "stdout",
          "text": [
            "(7000, 100)\n",
            "(1000, 100)\n"
          ]
        }
      ]
    },
    {
      "cell_type": "code",
      "metadata": {
        "id": "sP9WyhYMXzfy"
      },
      "source": [
        "from sklearn.preprocessing import normalize\n",
        "word_vecs_norm   = normalize(word_vecs)\n",
        "doc_vecs_tr_norm = normalize(doc_vecs_tr)"
      ],
      "execution_count": 34,
      "outputs": []
    },
    {
      "cell_type": "code",
      "metadata": {
        "id": "bVCxhMonXzf1",
        "outputId": "40f22b9d-8a70-4996-f018-7d6752896cd2",
        "colab": {
          "base_uri": "https://localhost:8080/"
        }
      },
      "source": [
        "print(word_vecs_norm.shape)\n",
        "print(doc_vecs_tr_norm.shape)"
      ],
      "execution_count": 35,
      "outputs": [
        {
          "output_type": "stream",
          "name": "stdout",
          "text": [
            "(1000, 100)\n",
            "(7000, 100)\n"
          ]
        }
      ]
    },
    {
      "cell_type": "code",
      "metadata": {
        "id": "uEBOqnDgXzf4",
        "outputId": "c1670350-6ef6-4628-b80c-84113d8fb6c1",
        "colab": {
          "base_uri": "https://localhost:8080/",
          "height": 617
        }
      },
      "source": [
        "latent_dimension_x = 0\n",
        "latent_dimension_y = 1\n",
        "\n",
        "# importing bokeh library for interactive dataviz\n",
        "\n",
        "import bokeh.plotting as bp\n",
        "from bokeh.models import HoverTool, BoxSelectTool, LabelSet, ColumnDataSource, Range1d\n",
        "from bokeh.plotting import figure, show, output_notebook\n",
        "\n",
        "output_notebook()\n",
        "p = bp.figure(plot_width=700, plot_height=600, title=\"words in latent dimensions\",\n",
        "              tools=\"pan,wheel_zoom,box_zoom,reset,hover,save\",\n",
        "              x_axis_label='latent dimension {}'.format(latent_dimension_x),\n",
        "              y_axis_label='latent dimension {}'.format(latent_dimension_y),\n",
        "              #x_axis_type=None, y_axis_type=None,\n",
        "              min_border=1)\n",
        "p.title.text_font_size='16pt'\n",
        "p.xaxis.axis_label_text_font_style='normal'\n",
        "p.xaxis.axis_label_text_font_size='16pt'\n",
        "p.yaxis.axis_label_text_font_style='normal'\n",
        "p.yaxis.axis_label_text_font_size='16pt'\n",
        "\n",
        "p.xgrid.visible = False\n",
        "p.ygrid.visible = False\n",
        "\n",
        "dictf = {'x':word_vecs_norm[:,latent_dimension_x],\n",
        "         'y':word_vecs_norm[:,latent_dimension_y],\n",
        "         'words':TFIDF_vocabulary}\n",
        "aa = ColumnDataSource(dictf)\n",
        "p.scatter(x='x', y='y', source=aa)\n",
        "labels_p = LabelSet(x='x', y='y', text='words', level='glyph',\n",
        "                    x_offset=5, y_offset=5, source=aa,\n",
        "                    render_mode='canvas',\n",
        "                    text_font_size=\"8pt\")\n",
        "p.add_layout(labels_p)\n",
        "\n",
        "hover = p.select(dict(type=HoverTool))\n",
        "hover.tooltips={\"word\": \"@words\"}\n",
        "show(p)"
      ],
      "execution_count": 36,
      "outputs": [
        {
          "output_type": "display_data",
          "data": {
            "application/javascript": [
              "\n",
              "(function(root) {\n",
              "  function now() {\n",
              "    return new Date();\n",
              "  }\n",
              "\n",
              "  var force = true;\n",
              "\n",
              "  if (typeof root._bokeh_onload_callbacks === \"undefined\" || force === true) {\n",
              "    root._bokeh_onload_callbacks = [];\n",
              "    root._bokeh_is_loading = undefined;\n",
              "  }\n",
              "\n",
              "  var JS_MIME_TYPE = 'application/javascript';\n",
              "  var HTML_MIME_TYPE = 'text/html';\n",
              "  var EXEC_MIME_TYPE = 'application/vnd.bokehjs_exec.v0+json';\n",
              "  var CLASS_NAME = 'output_bokeh rendered_html';\n",
              "\n",
              "  /**\n",
              "   * Render data to the DOM node\n",
              "   */\n",
              "  function render(props, node) {\n",
              "    var script = document.createElement(\"script\");\n",
              "    node.appendChild(script);\n",
              "  }\n",
              "\n",
              "  /**\n",
              "   * Handle when an output is cleared or removed\n",
              "   */\n",
              "  function handleClearOutput(event, handle) {\n",
              "    var cell = handle.cell;\n",
              "\n",
              "    var id = cell.output_area._bokeh_element_id;\n",
              "    var server_id = cell.output_area._bokeh_server_id;\n",
              "    // Clean up Bokeh references\n",
              "    if (id != null && id in Bokeh.index) {\n",
              "      Bokeh.index[id].model.document.clear();\n",
              "      delete Bokeh.index[id];\n",
              "    }\n",
              "\n",
              "    if (server_id !== undefined) {\n",
              "      // Clean up Bokeh references\n",
              "      var cmd = \"from bokeh.io.state import curstate; print(curstate().uuid_to_server['\" + server_id + \"'].get_sessions()[0].document.roots[0]._id)\";\n",
              "      cell.notebook.kernel.execute(cmd, {\n",
              "        iopub: {\n",
              "          output: function(msg) {\n",
              "            var id = msg.content.text.trim();\n",
              "            if (id in Bokeh.index) {\n",
              "              Bokeh.index[id].model.document.clear();\n",
              "              delete Bokeh.index[id];\n",
              "            }\n",
              "          }\n",
              "        }\n",
              "      });\n",
              "      // Destroy server and session\n",
              "      var cmd = \"import bokeh.io.notebook as ion; ion.destroy_server('\" + server_id + \"')\";\n",
              "      cell.notebook.kernel.execute(cmd);\n",
              "    }\n",
              "  }\n",
              "\n",
              "  /**\n",
              "   * Handle when a new output is added\n",
              "   */\n",
              "  function handleAddOutput(event, handle) {\n",
              "    var output_area = handle.output_area;\n",
              "    var output = handle.output;\n",
              "\n",
              "    // limit handleAddOutput to display_data with EXEC_MIME_TYPE content only\n",
              "    if ((output.output_type != \"display_data\") || (!Object.prototype.hasOwnProperty.call(output.data, EXEC_MIME_TYPE))) {\n",
              "      return\n",
              "    }\n",
              "\n",
              "    var toinsert = output_area.element.find(\".\" + CLASS_NAME.split(' ')[0]);\n",
              "\n",
              "    if (output.metadata[EXEC_MIME_TYPE][\"id\"] !== undefined) {\n",
              "      toinsert[toinsert.length - 1].firstChild.textContent = output.data[JS_MIME_TYPE];\n",
              "      // store reference to embed id on output_area\n",
              "      output_area._bokeh_element_id = output.metadata[EXEC_MIME_TYPE][\"id\"];\n",
              "    }\n",
              "    if (output.metadata[EXEC_MIME_TYPE][\"server_id\"] !== undefined) {\n",
              "      var bk_div = document.createElement(\"div\");\n",
              "      bk_div.innerHTML = output.data[HTML_MIME_TYPE];\n",
              "      var script_attrs = bk_div.children[0].attributes;\n",
              "      for (var i = 0; i < script_attrs.length; i++) {\n",
              "        toinsert[toinsert.length - 1].firstChild.setAttribute(script_attrs[i].name, script_attrs[i].value);\n",
              "        toinsert[toinsert.length - 1].firstChild.textContent = bk_div.children[0].textContent\n",
              "      }\n",
              "      // store reference to server id on output_area\n",
              "      output_area._bokeh_server_id = output.metadata[EXEC_MIME_TYPE][\"server_id\"];\n",
              "    }\n",
              "  }\n",
              "\n",
              "  function register_renderer(events, OutputArea) {\n",
              "\n",
              "    function append_mime(data, metadata, element) {\n",
              "      // create a DOM node to render to\n",
              "      var toinsert = this.create_output_subarea(\n",
              "        metadata,\n",
              "        CLASS_NAME,\n",
              "        EXEC_MIME_TYPE\n",
              "      );\n",
              "      this.keyboard_manager.register_events(toinsert);\n",
              "      // Render to node\n",
              "      var props = {data: data, metadata: metadata[EXEC_MIME_TYPE]};\n",
              "      render(props, toinsert[toinsert.length - 1]);\n",
              "      element.append(toinsert);\n",
              "      return toinsert\n",
              "    }\n",
              "\n",
              "    /* Handle when an output is cleared or removed */\n",
              "    events.on('clear_output.CodeCell', handleClearOutput);\n",
              "    events.on('delete.Cell', handleClearOutput);\n",
              "\n",
              "    /* Handle when a new output is added */\n",
              "    events.on('output_added.OutputArea', handleAddOutput);\n",
              "\n",
              "    /**\n",
              "     * Register the mime type and append_mime function with output_area\n",
              "     */\n",
              "    OutputArea.prototype.register_mime_type(EXEC_MIME_TYPE, append_mime, {\n",
              "      /* Is output safe? */\n",
              "      safe: true,\n",
              "      /* Index of renderer in `output_area.display_order` */\n",
              "      index: 0\n",
              "    });\n",
              "  }\n",
              "\n",
              "  // register the mime type if in Jupyter Notebook environment and previously unregistered\n",
              "  if (root.Jupyter !== undefined) {\n",
              "    var events = require('base/js/events');\n",
              "    var OutputArea = require('notebook/js/outputarea').OutputArea;\n",
              "\n",
              "    if (OutputArea.prototype.mime_types().indexOf(EXEC_MIME_TYPE) == -1) {\n",
              "      register_renderer(events, OutputArea);\n",
              "    }\n",
              "  }\n",
              "\n",
              "  \n",
              "  if (typeof (root._bokeh_timeout) === \"undefined\" || force === true) {\n",
              "    root._bokeh_timeout = Date.now() + 5000;\n",
              "    root._bokeh_failed_load = false;\n",
              "  }\n",
              "\n",
              "  var NB_LOAD_WARNING = {'data': {'text/html':\n",
              "     \"<div style='background-color: #fdd'>\\n\"+\n",
              "     \"<p>\\n\"+\n",
              "     \"BokehJS does not appear to have successfully loaded. If loading BokehJS from CDN, this \\n\"+\n",
              "     \"may be due to a slow or bad network connection. Possible fixes:\\n\"+\n",
              "     \"</p>\\n\"+\n",
              "     \"<ul>\\n\"+\n",
              "     \"<li>re-rerun `output_notebook()` to attempt to load from CDN again, or</li>\\n\"+\n",
              "     \"<li>use INLINE resources instead, as so:</li>\\n\"+\n",
              "     \"</ul>\\n\"+\n",
              "     \"<code>\\n\"+\n",
              "     \"from bokeh.resources import INLINE\\n\"+\n",
              "     \"output_notebook(resources=INLINE)\\n\"+\n",
              "     \"</code>\\n\"+\n",
              "     \"</div>\"}};\n",
              "\n",
              "  function display_loaded() {\n",
              "    var el = document.getElementById(null);\n",
              "    if (el != null) {\n",
              "      el.textContent = \"BokehJS is loading...\";\n",
              "    }\n",
              "    if (root.Bokeh !== undefined) {\n",
              "      if (el != null) {\n",
              "        el.textContent = \"BokehJS \" + root.Bokeh.version + \" successfully loaded.\";\n",
              "      }\n",
              "    } else if (Date.now() < root._bokeh_timeout) {\n",
              "      setTimeout(display_loaded, 100)\n",
              "    }\n",
              "  }\n",
              "\n",
              "\n",
              "  function run_callbacks() {\n",
              "    try {\n",
              "      root._bokeh_onload_callbacks.forEach(function(callback) {\n",
              "        if (callback != null)\n",
              "          callback();\n",
              "      });\n",
              "    } finally {\n",
              "      delete root._bokeh_onload_callbacks\n",
              "    }\n",
              "    console.debug(\"Bokeh: all callbacks have finished\");\n",
              "  }\n",
              "\n",
              "  function load_libs(css_urls, js_urls, callback) {\n",
              "    if (css_urls == null) css_urls = [];\n",
              "    if (js_urls == null) js_urls = [];\n",
              "\n",
              "    root._bokeh_onload_callbacks.push(callback);\n",
              "    if (root._bokeh_is_loading > 0) {\n",
              "      console.debug(\"Bokeh: BokehJS is being loaded, scheduling callback at\", now());\n",
              "      return null;\n",
              "    }\n",
              "    if (js_urls == null || js_urls.length === 0) {\n",
              "      run_callbacks();\n",
              "      return null;\n",
              "    }\n",
              "    console.debug(\"Bokeh: BokehJS not loaded, scheduling load and callback at\", now());\n",
              "    root._bokeh_is_loading = css_urls.length + js_urls.length;\n",
              "\n",
              "    function on_load() {\n",
              "      root._bokeh_is_loading--;\n",
              "      if (root._bokeh_is_loading === 0) {\n",
              "        console.debug(\"Bokeh: all BokehJS libraries/stylesheets loaded\");\n",
              "        run_callbacks()\n",
              "      }\n",
              "    }\n",
              "\n",
              "    function on_error(url) {\n",
              "      console.error(\"failed to load \" + url);\n",
              "    }\n",
              "\n",
              "    for (let i = 0; i < css_urls.length; i++) {\n",
              "      const url = css_urls[i];\n",
              "      const element = document.createElement(\"link\");\n",
              "      element.onload = on_load;\n",
              "      element.onerror = on_error.bind(null, url);\n",
              "      element.rel = \"stylesheet\";\n",
              "      element.type = \"text/css\";\n",
              "      element.href = url;\n",
              "      console.debug(\"Bokeh: injecting link tag for BokehJS stylesheet: \", url);\n",
              "      document.body.appendChild(element);\n",
              "    }\n",
              "\n",
              "    const hashes = {\"https://cdn.bokeh.org/bokeh/release/bokeh-2.3.3.min.js\": \"dM3QQsP+wXdHg42wTqW85BjZQdLNNIXqlPw/BgKoExPmTG7ZLML4EGqLMfqHT6ON\", \"https://cdn.bokeh.org/bokeh/release/bokeh-tables-2.3.3.min.js\": \"8x57I4YuIfu8XyZfFo0XVr2WAT8EK4rh/uDe3wF7YuW2FNUSNEpJbsPaB1nJ2fz2\", \"https://cdn.bokeh.org/bokeh/release/bokeh-widgets-2.3.3.min.js\": \"3QTqdz9LyAm2i0sG5XTePsHec3UHWwVsrOL68SYRoAXsafvfAyqtQ+h440+qIBhS\"};\n",
              "\n",
              "    for (let i = 0; i < js_urls.length; i++) {\n",
              "      const url = js_urls[i];\n",
              "      const element = document.createElement('script');\n",
              "      element.onload = on_load;\n",
              "      element.onerror = on_error.bind(null, url);\n",
              "      element.async = false;\n",
              "      element.src = url;\n",
              "      if (url in hashes) {\n",
              "        element.crossOrigin = \"anonymous\";\n",
              "        element.integrity = \"sha384-\" + hashes[url];\n",
              "      }\n",
              "      console.debug(\"Bokeh: injecting script tag for BokehJS library: \", url);\n",
              "      document.head.appendChild(element);\n",
              "    }\n",
              "  };\n",
              "\n",
              "  function inject_raw_css(css) {\n",
              "    const element = document.createElement(\"style\");\n",
              "    element.appendChild(document.createTextNode(css));\n",
              "    document.body.appendChild(element);\n",
              "  }\n",
              "\n",
              "  \n",
              "  var js_urls = [\"https://cdn.bokeh.org/bokeh/release/bokeh-2.3.3.min.js\", \"https://cdn.bokeh.org/bokeh/release/bokeh-widgets-2.3.3.min.js\", \"https://cdn.bokeh.org/bokeh/release/bokeh-tables-2.3.3.min.js\"];\n",
              "  var css_urls = [];\n",
              "  \n",
              "\n",
              "  var inline_js = [\n",
              "    function(Bokeh) {\n",
              "      Bokeh.set_log_level(\"info\");\n",
              "    },\n",
              "    function(Bokeh) {\n",
              "    \n",
              "    \n",
              "    }\n",
              "  ];\n",
              "\n",
              "  function run_inline_js() {\n",
              "    \n",
              "    if (root.Bokeh !== undefined || force === true) {\n",
              "      \n",
              "    for (var i = 0; i < inline_js.length; i++) {\n",
              "      inline_js[i].call(root, root.Bokeh);\n",
              "    }\n",
              "    } else if (Date.now() < root._bokeh_timeout) {\n",
              "      setTimeout(run_inline_js, 100);\n",
              "    } else if (!root._bokeh_failed_load) {\n",
              "      console.log(\"Bokeh: BokehJS failed to load within specified timeout.\");\n",
              "      root._bokeh_failed_load = true;\n",
              "    } else if (force !== true) {\n",
              "      var cell = $(document.getElementById(null)).parents('.cell').data().cell;\n",
              "      cell.output_area.append_execute_result(NB_LOAD_WARNING)\n",
              "    }\n",
              "\n",
              "  }\n",
              "\n",
              "  if (root._bokeh_is_loading === 0) {\n",
              "    console.debug(\"Bokeh: BokehJS loaded, going straight to plotting\");\n",
              "    run_inline_js();\n",
              "  } else {\n",
              "    load_libs(css_urls, js_urls, function() {\n",
              "      console.debug(\"Bokeh: BokehJS plotting callback run at\", now());\n",
              "      run_inline_js();\n",
              "    });\n",
              "  }\n",
              "}(window));"
            ],
            "application/vnd.bokehjs_load.v0+json": "\n(function(root) {\n  function now() {\n    return new Date();\n  }\n\n  var force = true;\n\n  if (typeof root._bokeh_onload_callbacks === \"undefined\" || force === true) {\n    root._bokeh_onload_callbacks = [];\n    root._bokeh_is_loading = undefined;\n  }\n\n  \n\n  \n  if (typeof (root._bokeh_timeout) === \"undefined\" || force === true) {\n    root._bokeh_timeout = Date.now() + 5000;\n    root._bokeh_failed_load = false;\n  }\n\n  var NB_LOAD_WARNING = {'data': {'text/html':\n     \"<div style='background-color: #fdd'>\\n\"+\n     \"<p>\\n\"+\n     \"BokehJS does not appear to have successfully loaded. If loading BokehJS from CDN, this \\n\"+\n     \"may be due to a slow or bad network connection. Possible fixes:\\n\"+\n     \"</p>\\n\"+\n     \"<ul>\\n\"+\n     \"<li>re-rerun `output_notebook()` to attempt to load from CDN again, or</li>\\n\"+\n     \"<li>use INLINE resources instead, as so:</li>\\n\"+\n     \"</ul>\\n\"+\n     \"<code>\\n\"+\n     \"from bokeh.resources import INLINE\\n\"+\n     \"output_notebook(resources=INLINE)\\n\"+\n     \"</code>\\n\"+\n     \"</div>\"}};\n\n  function display_loaded() {\n    var el = document.getElementById(null);\n    if (el != null) {\n      el.textContent = \"BokehJS is loading...\";\n    }\n    if (root.Bokeh !== undefined) {\n      if (el != null) {\n        el.textContent = \"BokehJS \" + root.Bokeh.version + \" successfully loaded.\";\n      }\n    } else if (Date.now() < root._bokeh_timeout) {\n      setTimeout(display_loaded, 100)\n    }\n  }\n\n\n  function run_callbacks() {\n    try {\n      root._bokeh_onload_callbacks.forEach(function(callback) {\n        if (callback != null)\n          callback();\n      });\n    } finally {\n      delete root._bokeh_onload_callbacks\n    }\n    console.debug(\"Bokeh: all callbacks have finished\");\n  }\n\n  function load_libs(css_urls, js_urls, callback) {\n    if (css_urls == null) css_urls = [];\n    if (js_urls == null) js_urls = [];\n\n    root._bokeh_onload_callbacks.push(callback);\n    if (root._bokeh_is_loading > 0) {\n      console.debug(\"Bokeh: BokehJS is being loaded, scheduling callback at\", now());\n      return null;\n    }\n    if (js_urls == null || js_urls.length === 0) {\n      run_callbacks();\n      return null;\n    }\n    console.debug(\"Bokeh: BokehJS not loaded, scheduling load and callback at\", now());\n    root._bokeh_is_loading = css_urls.length + js_urls.length;\n\n    function on_load() {\n      root._bokeh_is_loading--;\n      if (root._bokeh_is_loading === 0) {\n        console.debug(\"Bokeh: all BokehJS libraries/stylesheets loaded\");\n        run_callbacks()\n      }\n    }\n\n    function on_error(url) {\n      console.error(\"failed to load \" + url);\n    }\n\n    for (let i = 0; i < css_urls.length; i++) {\n      const url = css_urls[i];\n      const element = document.createElement(\"link\");\n      element.onload = on_load;\n      element.onerror = on_error.bind(null, url);\n      element.rel = \"stylesheet\";\n      element.type = \"text/css\";\n      element.href = url;\n      console.debug(\"Bokeh: injecting link tag for BokehJS stylesheet: \", url);\n      document.body.appendChild(element);\n    }\n\n    const hashes = {\"https://cdn.bokeh.org/bokeh/release/bokeh-2.3.3.min.js\": \"dM3QQsP+wXdHg42wTqW85BjZQdLNNIXqlPw/BgKoExPmTG7ZLML4EGqLMfqHT6ON\", \"https://cdn.bokeh.org/bokeh/release/bokeh-tables-2.3.3.min.js\": \"8x57I4YuIfu8XyZfFo0XVr2WAT8EK4rh/uDe3wF7YuW2FNUSNEpJbsPaB1nJ2fz2\", \"https://cdn.bokeh.org/bokeh/release/bokeh-widgets-2.3.3.min.js\": \"3QTqdz9LyAm2i0sG5XTePsHec3UHWwVsrOL68SYRoAXsafvfAyqtQ+h440+qIBhS\"};\n\n    for (let i = 0; i < js_urls.length; i++) {\n      const url = js_urls[i];\n      const element = document.createElement('script');\n      element.onload = on_load;\n      element.onerror = on_error.bind(null, url);\n      element.async = false;\n      element.src = url;\n      if (url in hashes) {\n        element.crossOrigin = \"anonymous\";\n        element.integrity = \"sha384-\" + hashes[url];\n      }\n      console.debug(\"Bokeh: injecting script tag for BokehJS library: \", url);\n      document.head.appendChild(element);\n    }\n  };\n\n  function inject_raw_css(css) {\n    const element = document.createElement(\"style\");\n    element.appendChild(document.createTextNode(css));\n    document.body.appendChild(element);\n  }\n\n  \n  var js_urls = [\"https://cdn.bokeh.org/bokeh/release/bokeh-2.3.3.min.js\", \"https://cdn.bokeh.org/bokeh/release/bokeh-widgets-2.3.3.min.js\", \"https://cdn.bokeh.org/bokeh/release/bokeh-tables-2.3.3.min.js\"];\n  var css_urls = [];\n  \n\n  var inline_js = [\n    function(Bokeh) {\n      Bokeh.set_log_level(\"info\");\n    },\n    function(Bokeh) {\n    \n    \n    }\n  ];\n\n  function run_inline_js() {\n    \n    if (root.Bokeh !== undefined || force === true) {\n      \n    for (var i = 0; i < inline_js.length; i++) {\n      inline_js[i].call(root, root.Bokeh);\n    }\n    } else if (Date.now() < root._bokeh_timeout) {\n      setTimeout(run_inline_js, 100);\n    } else if (!root._bokeh_failed_load) {\n      console.log(\"Bokeh: BokehJS failed to load within specified timeout.\");\n      root._bokeh_failed_load = true;\n    } else if (force !== true) {\n      var cell = $(document.getElementById(null)).parents('.cell').data().cell;\n      cell.output_area.append_execute_result(NB_LOAD_WARNING)\n    }\n\n  }\n\n  if (root._bokeh_is_loading === 0) {\n    console.debug(\"Bokeh: BokehJS loaded, going straight to plotting\");\n    run_inline_js();\n  } else {\n    load_libs(css_urls, js_urls, function() {\n      console.debug(\"Bokeh: BokehJS plotting callback run at\", now());\n      run_inline_js();\n    });\n  }\n}(window));"
          },
          "metadata": {}
        },
        {
          "output_type": "display_data",
          "data": {
            "text/html": [
              "\n",
              "\n",
              "\n",
              "\n",
              "\n",
              "\n",
              "  <div class=\"bk-root\" id=\"65677bff-7f2b-459f-b0f1-8f9c6ad82b08\" data-root-id=\"1002\"></div>\n"
            ]
          },
          "metadata": {}
        },
        {
          "output_type": "display_data",
          "data": {
            "application/javascript": [
              "(function(root) {\n",
              "  function embed_document(root) {\n",
              "    \n",
              "  var docs_json = {\"530d1763-f503-4958-9814-e868e14fd1c5\":{\"defs\":[],\"roots\":{\"references\":[{\"attributes\":{\"below\":[{\"id\":\"1013\"}],\"center\":[{\"id\":\"1016\"},{\"id\":\"1020\"},{\"id\":\"1041\"}],\"left\":[{\"id\":\"1017\"}],\"min_border\":1,\"renderers\":[{\"id\":\"1039\"}],\"title\":{\"id\":\"1003\"},\"toolbar\":{\"id\":\"1028\"},\"width\":700,\"x_range\":{\"id\":\"1005\"},\"x_scale\":{\"id\":\"1009\"},\"y_range\":{\"id\":\"1007\"},\"y_scale\":{\"id\":\"1011\"}},\"id\":\"1002\",\"subtype\":\"Figure\",\"type\":\"Plot\"},{\"attributes\":{\"data_source\":{\"id\":\"1035\"},\"glyph\":{\"id\":\"1037\"},\"hover_glyph\":null,\"muted_glyph\":null,\"nonselection_glyph\":{\"id\":\"1038\"},\"view\":{\"id\":\"1040\"}},\"id\":\"1039\",\"type\":\"GlyphRenderer\"},{\"attributes\":{\"bottom_units\":\"screen\",\"fill_alpha\":0.5,\"fill_color\":\"lightgrey\",\"left_units\":\"screen\",\"level\":\"overlay\",\"line_alpha\":1.0,\"line_color\":\"black\",\"line_dash\":[4,4],\"line_width\":2,\"right_units\":\"screen\",\"syncable\":false,\"top_units\":\"screen\"},\"id\":\"1027\",\"type\":\"BoxAnnotation\"},{\"attributes\":{\"overlay\":{\"id\":\"1027\"}},\"id\":\"1023\",\"type\":\"BoxZoomTool\"},{\"attributes\":{},\"id\":\"1007\",\"type\":\"DataRange1d\"},{\"attributes\":{},\"id\":\"1024\",\"type\":\"ResetTool\"},{\"attributes\":{},\"id\":\"1009\",\"type\":\"LinearScale\"},{\"attributes\":{},\"id\":\"1044\",\"type\":\"AllLabels\"},{\"attributes\":{\"callback\":null,\"tooltips\":[[\"word\",\"@words\"]]},\"id\":\"1025\",\"type\":\"HoverTool\"},{\"attributes\":{\"source\":{\"id\":\"1035\"}},\"id\":\"1040\",\"type\":\"CDSView\"},{\"attributes\":{\"data\":{\"words\":[\"00\",\"10\",\"100\",\"1000\",\"1200\",\"15\",\"16\",\"200\",\"2000\",\"2013\",\"2014\",\"2015\",\"2016\",\"25\",\"300\",\"500\",\"75\",\"ability\",\"able\",\"absolutely\",\"accept\",\"accepted\",\"access\",\"according\",\"account\",\"accounting\",\"accounts\",\"acct\",\"accurate\",\"act\",\"action\",\"actions\",\"activity\",\"actual\",\"actually\",\"add\",\"added\",\"addition\",\"additional\",\"address\",\"advance\",\"advantage\",\"advise\",\"advised\",\"affected\",\"afford\",\"affordable\",\"agencies\",\"agency\",\"agent\",\"ago\",\"agreed\",\"agreement\",\"alleged\",\"allow\",\"allowed\",\"almost\",\"along\",\"already\",\"also\",\"although\",\"always\",\"america\",\"american\",\"amex\",\"amount\",\"amounts\",\"annual\",\"another\",\"answer\",\"anyone\",\"anything\",\"apparently\",\"appeal\",\"appears\",\"application\",\"applied\",\"apply\",\"applying\",\"appraisal\",\"approval\",\"approved\",\"approximately\",\"apr\",\"around\",\"ask\",\"asked\",\"asking\",\"assessed\",\"assigned\",\"assist\",\"assistance\",\"assured\",\"attached\",\"attempt\",\"attempted\",\"attempting\",\"attempts\",\"attention\",\"attorney\",\"auction\",\"authorization\",\"authorized\",\"auto\",\"automated\",\"automatic\",\"automatically\",\"available\",\"avoid\",\"aware\",\"away\",\"back\",\"bad\",\"balance\",\"balances\",\"bank\",\"banking\",\"bankruptcy\",\"banks\",\"barclay\",\"barclays\",\"based\",\"bayview\",\"became\",\"began\",\"begin\",\"beginning\",\"behalf\",\"behind\",\"believe\",\"benefit\",\"benefits\",\"best\",\"better\",\"bill\",\"billed\",\"billing\",\"bills\",\"boa\",\"bonus\",\"borrower\",\"bought\",\"branch\",\"bring\",\"brought\",\"bureau\",\"bureaus\",\"business\",\"buy\",\"buyer\",\"caliber\",\"california\",\"call\",\"called\",\"calling\",\"calls\",\"came\",\"cancel\",\"cancellation\",\"cancelled\",\"capital\",\"car\",\"card\",\"cards\",\"care\",\"carrington\",\"case\",\"cash\",\"cashed\",\"cause\",\"caused\",\"cell\",\"center\",\"certain\",\"certified\",\"cfpb\",\"change\",\"changed\",\"chapter\",\"charge\",\"charged\",\"charges\",\"charging\",\"chase\",\"check\",\"checked\",\"checking\",\"checks\",\"citi\",\"citibank\",\"citimortgage\",\"claim\",\"claimed\",\"claiming\",\"claims\",\"clear\",\"cleared\",\"clearly\",\"client\",\"close\",\"closed\",\"closing\",\"code\",\"collect\",\"collection\",\"collections\",\"come\",\"coming\",\"communication\",\"companies\",\"company\",\"complain\",\"complaint\",\"complaints\",\"complete\",\"completed\",\"completely\",\"concern\",\"concerned\",\"concerns\",\"conditions\",\"condo\",\"confirm\",\"confirmation\",\"confirmed\",\"consent\",\"consider\",\"considered\",\"consumer\",\"consumers\",\"contact\",\"contacted\",\"contacting\",\"continue\",\"continued\",\"continues\",\"contract\",\"conversation\",\"copies\",\"copy\",\"correct\",\"corrected\",\"correctly\",\"correspondence\",\"cost\",\"costs\",\"could\",\"county\",\"couple\",\"course\",\"court\",\"cover\",\"credit\",\"credited\",\"creditor\",\"current\",\"currently\",\"customer\",\"customers\",\"cycle\",\"damage\",\"date\",\"dated\",\"dates\",\"daughter\",\"day\",\"days\",\"deal\",\"dealing\",\"debt\",\"deceptive\",\"decided\",\"decision\",\"declined\",\"deed\",\"default\",\"delay\",\"delinquency\",\"delinquent\",\"denial\",\"denied\",\"department\",\"deposit\",\"depot\",\"dept\",\"despite\",\"details\",\"difference\",\"different\",\"difficult\",\"direct\",\"directly\",\"disclosure\",\"discover\",\"discovered\",\"discuss\",\"dispute\",\"disputed\",\"ditech\",\"divorce\",\"document\",\"documentation\",\"documents\",\"dollars\",\"done\",\"dropped\",\"due\",\"earlier\",\"early\",\"either\",\"electronic\",\"eligible\",\"else\",\"email\",\"emailed\",\"emails\",\"employee\",\"employees\",\"end\",\"ended\",\"ending\",\"enough\",\"entire\",\"equity\",\"error\",\"errors\",\"escrow\",\"especially\",\"estate\",\"etc\",\"even\",\"ever\",\"every\",\"everything\",\"evidence\",\"except\",\"experience\",\"expired\",\"explain\",\"explained\",\"explaining\",\"explanation\",\"express\",\"extra\",\"extremely\",\"fact\",\"failed\",\"failure\",\"fair\",\"faith\",\"false\",\"family\",\"far\",\"fargo\",\"fault\",\"fax\",\"faxed\",\"federal\",\"fee\",\"feel\",\"fees\",\"fell\",\"felt\",\"fha\",\"file\",\"filed\",\"filing\",\"final\",\"finally\",\"finance\",\"financial\",\"find\",\"fine\",\"firm\",\"first\",\"fix\",\"fixed\",\"flood\",\"follow\",\"followed\",\"following\",\"force\",\"forced\",\"foreclose\",\"foreclosed\",\"foreclosure\",\"form\",\"forms\",\"forward\",\"found\",\"fraud\",\"fraudulent\",\"free\",\"freedom\",\"full\",\"fully\",\"funds\",\"furthermore\",\"future\",\"gave\",\"general\",\"get\",\"getting\",\"give\",\"given\",\"giving\",\"going\",\"gone\",\"good\",\"got\",\"government\",\"great\",\"green\",\"greentree\",\"guidelines\",\"half\",\"hamp\",\"happen\",\"happened\",\"hard\",\"hardship\",\"hear\",\"heard\",\"held\",\"help\",\"high\",\"higher\",\"history\",\"hit\",\"hold\",\"holder\",\"holding\",\"home\",\"homeowner\",\"homeowners\",\"honor\",\"hope\",\"hour\",\"hours\",\"house\",\"however\",\"hsbc\",\"hud\",\"hung\",\"husband\",\"idea\",\"identity\",\"illegal\",\"immediately\",\"impossible\",\"inc\",\"include\",\"included\",\"including\",\"income\",\"incorrect\",\"increase\",\"increased\",\"indicated\",\"info\",\"inform\",\"information\",\"informed\",\"initial\",\"initially\",\"inquiry\",\"instead\",\"insurance\",\"interest\",\"investigate\",\"investigation\",\"investor\",\"involved\",\"issue\",\"issued\",\"issues\",\"item\",\"items\",\"job\",\"keep\",\"kept\",\"kind\",\"knew\",\"know\",\"knowing\",\"knowledge\",\"known\",\"lack\",\"large\",\"last\",\"late\",\"later\",\"law\",\"laws\",\"lawyer\",\"least\",\"leave\",\"left\",\"legal\",\"lender\",\"lending\",\"less\",\"let\",\"letter\",\"letters\",\"lied\",\"lien\",\"lieu\",\"life\",\"like\",\"limit\",\"line\",\"list\",\"listed\",\"little\",\"live\",\"living\",\"llc\",\"loan\",\"loans\",\"local\",\"located\",\"long\",\"longer\",\"look\",\"looked\",\"looking\",\"lose\",\"loss\",\"lost\",\"lot\",\"low\",\"lower\",\"macy\",\"made\",\"mail\",\"mailed\",\"make\",\"makes\",\"making\",\"management\",\"manager\",\"manner\",\"many\",\"market\",\"matter\",\"may\",\"means\",\"meet\",\"member\",\"membership\",\"mention\",\"mentioned\",\"merchant\",\"message\",\"messages\",\"miles\",\"mine\",\"minimum\",\"minutes\",\"missed\",\"missing\",\"mistake\",\"mitigation\",\"mod\",\"modification\",\"modified\",\"modify\",\"monday\",\"money\",\"month\",\"monthly\",\"months\",\"morning\",\"mortgage\",\"mortgages\",\"mother\",\"move\",\"moved\",\"much\",\"multiple\",\"must\",\"name\",\"named\",\"national\",\"nationstar\",\"nearly\",\"necessary\",\"need\",\"needed\",\"needs\",\"negative\",\"neither\",\"never\",\"new\",\"next\",\"night\",\"non\",\"none\",\"note\",\"notes\",\"nothing\",\"notice\",\"noticed\",\"notices\",\"notification\",\"notified\",\"number\",\"numbers\",\"numerous\",\"obtain\",\"obtained\",\"occasions\",\"occurred\",\"ocwen\",\"offer\",\"offered\",\"offers\",\"office\",\"officer\",\"old\",\"one\",\"online\",\"open\",\"opened\",\"opportunity\",\"option\",\"options\",\"order\",\"ordered\",\"original\",\"originally\",\"others\",\"outstanding\",\"owe\",\"owed\",\"owned\",\"owner\",\"package\",\"page\",\"paid\",\"paper\",\"papers\",\"paperwork\",\"part\",\"party\",\"passed\",\"past\",\"pay\",\"paying\",\"payment\",\"payments\",\"payoff\",\"paypal\",\"pending\",\"pennymac\",\"people\",\"per\",\"period\",\"permission\",\"person\",\"personal\",\"phone\",\"place\",\"placed\",\"plan\",\"please\",\"plus\",\"pmi\",\"pnc\",\"point\",\"points\",\"policy\",\"portfolio\",\"possible\",\"post\",\"posted\",\"practice\",\"practices\",\"pre\",\"predatory\",\"previous\",\"previously\",\"price\",\"primary\",\"principal\",\"principle\",\"prior\",\"problem\",\"problems\",\"process\",\"processed\",\"processing\",\"product\",\"program\",\"promised\",\"promotion\",\"promotional\",\"proof\",\"proper\",\"properly\",\"property\",\"protection\",\"prove\",\"provide\",\"provided\",\"providing\",\"pull\",\"pulled\",\"purchase\",\"purchased\",\"purchases\",\"put\",\"qualified\",\"qualify\",\"question\",\"questions\",\"quicken\",\"rate\",\"rates\",\"rather\",\"rating\",\"reach\",\"reached\",\"read\",\"real\",\"really\",\"realtor\",\"reason\",\"reasonable\",\"reasons\",\"receipt\",\"receive\",\"received\",\"receiving\",\"recent\",\"recently\",\"record\",\"recorded\",\"records\",\"reduce\",\"reduced\",\"reduction\",\"refinance\",\"refinanced\",\"refinancing\",\"refund\",\"refunded\",\"refuse\",\"refused\",\"refuses\",\"refusing\",\"regarding\",\"regards\",\"regular\",\"rejected\",\"related\",\"relationship\",\"release\",\"remaining\",\"remove\",\"removed\",\"rep\",\"repeatedly\",\"report\",\"reported\",\"reporting\",\"reports\",\"representative\",\"representatives\",\"request\",\"requested\",\"requesting\",\"requests\",\"required\",\"requirement\",\"requirements\",\"research\",\"resolution\",\"resolve\",\"resolved\",\"respond\",\"responded\",\"response\",\"responsibility\",\"responsible\",\"result\",\"return\",\"returned\",\"reverse\",\"reversed\",\"review\",\"reviewed\",\"rewards\",\"right\",\"rights\",\"rude\",\"run\",\"said\",\"sale\",\"save\",\"savings\",\"saw\",\"say\",\"saying\",\"says\",\"scheduled\",\"score\",\"sears\",\"second\",\"section\",\"secure\",\"secured\",\"security\",\"see\",\"seem\",\"seems\",\"select\",\"sell\",\"seller\",\"send\",\"sending\",\"sent\",\"separate\",\"service\",\"servicer\",\"services\",\"servicing\",\"set\",\"seterus\",\"settlement\",\"several\",\"short\",\"shortage\",\"show\",\"showed\",\"showing\",\"shows\",\"sign\",\"signature\",\"signed\",\"signing\",\"simply\",\"since\",\"single\",\"site\",\"situation\",\"sls\",\"small\",\"social\",\"sold\",\"someone\",\"something\",\"son\",\"soon\",\"speak\",\"speaking\",\"specialist\",\"specifically\",\"spend\",\"spent\",\"spoke\",\"spoken\",\"sps\",\"standing\",\"start\",\"started\",\"starting\",\"state\",\"stated\",\"statement\",\"statements\",\"states\",\"stating\",\"status\",\"stay\",\"still\",\"stop\",\"stopped\",\"store\",\"subject\",\"submit\",\"submitted\",\"submitting\",\"suntrust\",\"supervisor\",\"support\",\"supposed\",\"sure\",\"synchrony\",\"system\",\"take\",\"taken\",\"takes\",\"taking\",\"talk\",\"talked\",\"talking\",\"target\",\"tax\",\"taxes\",\"telephone\",\"tell\",\"telling\",\"terms\",\"thank\",\"theft\",\"therefore\",\"thing\",\"things\",\"think\",\"third\",\"though\",\"thought\",\"three\",\"thru\",\"thus\",\"time\",\"timely\",\"times\",\"title\",\"today\",\"told\",\"took\",\"total\",\"towards\",\"transaction\",\"transactions\",\"transfer\",\"transferred\",\"travel\",\"tree\",\"trial\",\"tried\",\"true\",\"trust\",\"trustee\",\"try\",\"trying\",\"turn\",\"turned\",\"twice\",\"two\",\"type\",\"unable\",\"unauthorized\",\"understand\",\"understanding\",\"underwriting\",\"unfair\",\"unfortunately\",\"unless\",\"update\",\"updated\",\"upon\",\"usaa\",\"use\",\"used\",\"using\",\"valid\",\"value\",\"vendor\",\"verified\",\"verify\",\"via\",\"victim\",\"violation\",\"visa\",\"wait\",\"waited\",\"waiting\",\"want\",\"wanted\",\"way\",\"website\",\"week\",\"weeks\",\"well\",\"wells\",\"went\",\"whether\",\"whole\",\"wife\",\"willing\",\"within\",\"without\",\"work\",\"worked\",\"working\",\"worth\",\"would\",\"write\",\"writing\",\"written\",\"wrong\",\"wrote\",\"year\",\"years\",\"yes\",\"yet\"],\"x\":{\"__ndarray__\":\"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\",\"dtype\":\"float64\",\"order\":\"little\",\"shape\":[1000]},\"y\":{\"__ndarray__\":\"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\",\"dtype\":\"float64\",\"order\":\"little\",\"shape\":[1000]}},\"selected\":{\"id\":\"1050\"},\"selection_policy\":{\"id\":\"1051\"}},\"id\":\"1035\",\"type\":\"ColumnDataSource\"},{\"attributes\":{},\"id\":\"1026\",\"type\":\"SaveTool\"},{\"attributes\":{},\"id\":\"1011\",\"type\":\"LinearScale\"},{\"attributes\":{\"text\":\"words in latent dimensions\",\"text_font_size\":\"16pt\"},\"id\":\"1003\",\"type\":\"Title\"},{\"attributes\":{},\"id\":\"1046\",\"type\":\"BasicTickFormatter\"},{\"attributes\":{\"axis_label\":\"latent dimension 0\",\"axis_label_text_font_size\":\"16pt\",\"axis_label_text_font_style\":\"normal\",\"formatter\":{\"id\":\"1049\"},\"major_label_policy\":{\"id\":\"1047\"},\"ticker\":{\"id\":\"1014\"}},\"id\":\"1013\",\"type\":\"LinearAxis\"},{\"attributes\":{},\"id\":\"1047\",\"type\":\"AllLabels\"},{\"attributes\":{\"axis\":{\"id\":\"1017\"},\"dimension\":1,\"ticker\":null,\"visible\":false},\"id\":\"1020\",\"type\":\"Grid\"},{\"attributes\":{},\"id\":\"1014\",\"type\":\"BasicTicker\"},{\"attributes\":{},\"id\":\"1051\",\"type\":\"UnionRenderers\"},{\"attributes\":{\"axis\":{\"id\":\"1013\"},\"ticker\":null,\"visible\":false},\"id\":\"1016\",\"type\":\"Grid\"},{\"attributes\":{\"active_multi\":null,\"tools\":[{\"id\":\"1021\"},{\"id\":\"1022\"},{\"id\":\"1023\"},{\"id\":\"1024\"},{\"id\":\"1025\"},{\"id\":\"1026\"}]},\"id\":\"1028\",\"type\":\"Toolbar\"},{\"attributes\":{},\"id\":\"1018\",\"type\":\"BasicTicker\"},{\"attributes\":{\"axis_label\":\"latent dimension 1\",\"axis_label_text_font_size\":\"16pt\",\"axis_label_text_font_style\":\"normal\",\"formatter\":{\"id\":\"1046\"},\"major_label_policy\":{\"id\":\"1044\"},\"ticker\":{\"id\":\"1018\"}},\"id\":\"1017\",\"type\":\"LinearAxis\"},{\"attributes\":{\"fill_alpha\":{\"value\":0.1},\"fill_color\":{\"value\":\"#1f77b4\"},\"line_alpha\":{\"value\":0.1},\"line_color\":{\"value\":\"#1f77b4\"},\"x\":{\"field\":\"x\"},\"y\":{\"field\":\"y\"}},\"id\":\"1038\",\"type\":\"Scatter\"},{\"attributes\":{},\"id\":\"1022\",\"type\":\"WheelZoomTool\"},{\"attributes\":{},\"id\":\"1049\",\"type\":\"BasicTickFormatter\"},{\"attributes\":{},\"id\":\"1005\",\"type\":\"DataRange1d\"},{\"attributes\":{\"level\":\"glyph\",\"source\":{\"id\":\"1035\"},\"text\":{\"field\":\"words\"},\"text_font_size\":{\"value\":\"8pt\"},\"x\":{\"field\":\"x\"},\"x_offset\":{\"value\":5},\"y\":{\"field\":\"y\"},\"y_offset\":{\"value\":5}},\"id\":\"1041\",\"type\":\"LabelSet\"},{\"attributes\":{\"fill_color\":{\"value\":\"#1f77b4\"},\"line_color\":{\"value\":\"#1f77b4\"},\"x\":{\"field\":\"x\"},\"y\":{\"field\":\"y\"}},\"id\":\"1037\",\"type\":\"Scatter\"},{\"attributes\":{},\"id\":\"1050\",\"type\":\"Selection\"},{\"attributes\":{},\"id\":\"1021\",\"type\":\"PanTool\"}],\"root_ids\":[\"1002\"]},\"title\":\"Bokeh Application\",\"version\":\"2.3.3\"}};\n",
              "  var render_items = [{\"docid\":\"530d1763-f503-4958-9814-e868e14fd1c5\",\"root_ids\":[\"1002\"],\"roots\":{\"1002\":\"65677bff-7f2b-459f-b0f1-8f9c6ad82b08\"}}];\n",
              "  root.Bokeh.embed.embed_items_notebook(docs_json, render_items);\n",
              "\n",
              "  }\n",
              "  if (root.Bokeh !== undefined) {\n",
              "    embed_document(root);\n",
              "  } else {\n",
              "    var attempts = 0;\n",
              "    var timer = setInterval(function(root) {\n",
              "      if (root.Bokeh !== undefined) {\n",
              "        clearInterval(timer);\n",
              "        embed_document(root);\n",
              "      } else {\n",
              "        attempts++;\n",
              "        if (attempts > 100) {\n",
              "          clearInterval(timer);\n",
              "          console.log(\"Bokeh: ERROR: Unable to run BokehJS code because BokehJS library is missing\");\n",
              "        }\n",
              "      }\n",
              "    }, 10, root)\n",
              "  }\n",
              "})(window);"
            ],
            "application/vnd.bokehjs_exec.v0+json": ""
          },
          "metadata": {
            "application/vnd.bokehjs_exec.v0+json": {
              "id": "1002"
            }
          }
        }
      ]
    },
    {
      "cell_type": "code",
      "metadata": {
        "id": "JGi3_O63Xzf7"
      },
      "source": [
        "from sklearn.metrics.pairwise import pairwise_distances\n",
        "\n",
        "index2word = np.array(TFIDF_vocabulary)\n",
        "word2index = {w:i for i,w in enumerate(index2word)}\n",
        "\n",
        "def most_similar_words(word,n=10):\n",
        "    n_latent_dimensions = np.shape(word_vecs_norm)[1]\n",
        "    ind = word2index[word]\n",
        "    aux = np.reshape(word_vecs_norm[ind,:], (1,n_latent_dimensions))\n",
        "    dists = pairwise_distances(aux, word_vecs_norm).flatten()\n",
        "    inds = dists.argsort().tolist()\n",
        "    inds.remove(ind)\n",
        "    return index2word[inds[:n]]"
      ],
      "execution_count": null,
      "outputs": []
    },
    {
      "cell_type": "code",
      "metadata": {
        "id": "QatJpL2gXzf-"
      },
      "source": [
        "print(word2index['contract'])"
      ],
      "execution_count": null,
      "outputs": []
    },
    {
      "cell_type": "code",
      "metadata": {
        "id": "xDHgStW8XzgA"
      },
      "source": [
        "most_similar_words('claim')"
      ],
      "execution_count": null,
      "outputs": []
    },
    {
      "cell_type": "code",
      "metadata": {
        "id": "AYlb6fdpXzgF"
      },
      "source": [
        "colors = ['blue', 'orange', 'yellow', 'red', 'green', 'magenta']\n",
        "\n",
        "X_tr = doc_vecs_tr_norm\n",
        "\n",
        "latent_dimension_x = 0\n",
        "latent_dimension_y = 1\n",
        "plt.figure(figsize=(8,8))\n",
        "for i,label in enumerate(unique_labels):\n",
        "    plt.scatter(X_tr[y_tr==label,latent_dimension_x],\n",
        "                X_tr[y_tr==label,latent_dimension_y],\n",
        "                s = 1, alpha = 1, c = colors[i], label=label,\n",
        "                )\n",
        "#plt.axis([-50,50,-50,50])\n",
        "plt.legend()\n",
        "plt.xlabel('latent dimension {}'.format(latent_dimension_x), fontsize=16)\n",
        "plt.ylabel('latent dimension {}'.format(latent_dimension_y), fontsize=16)\n",
        "plt.title('docs in latent dimensions', fontsize=16);"
      ],
      "execution_count": null,
      "outputs": []
    },
    {
      "cell_type": "code",
      "metadata": {
        "id": "ILY6cG5tBov7"
      },
      "source": [
        "latent_dimension_x = 0\n",
        "latent_dimension_y = 1\n",
        "\n",
        "# defining the chart\n",
        "output_notebook()\n",
        "p = bp.figure(plot_width=700, plot_height=600, title=\"docs in latent dimensions\",\n",
        "              tools=\"pan,wheel_zoom,box_zoom,reset,hover,save\",\n",
        "              x_axis_label='latent dimension {}'.format(latent_dimension_x),\n",
        "              y_axis_label='latent dimension {}'.format(latent_dimension_y),              \n",
        "              #x_axis_type=None, y_axis_type=None,\n",
        "              min_border=1)\n",
        "p.title.text_font_size = '16pt'\n",
        "p.xaxis.axis_label_text_font_style='normal'\n",
        "p.xaxis.axis_label_text_font_size='16pt'\n",
        "p.yaxis.axis_label_text_font_style='normal'\n",
        "p.yaxis.axis_label_text_font_size='16pt'\n",
        "\n",
        "p.xgrid.visible = False\n",
        "p.ygrid.visible = False\n",
        "\n",
        "colores = np.array(len(X_tr)*[colors[0]], dtype=object)\n",
        "for i,label in enumerate(unique_labels):\n",
        "    colores[y_tr==label] = colors[i]\n",
        "dictf = {'x':X_tr[:,latent_dimension_x],\n",
        "         'y':X_tr[:,latent_dimension_y],\n",
        "         'narratives':[narrative[:200] for narrative in narratives_tr],\n",
        "         'clases':y_tr,\n",
        "         'c':colores\n",
        "         }\n",
        "aa = ColumnDataSource(dictf)\n",
        "p.scatter(x='x', y='y',\n",
        "          color='c',\n",
        "          legend='clases',\n",
        "          #alpha=0.05,\n",
        "          source=aa\n",
        ")\n",
        "\n",
        "hover = p.select(dict(type=HoverTool))\n",
        "hover.tooltips={\"Class\": \"@clases\",\n",
        "                \"Complaint (first lines)\": \"@narratives\", }\n",
        "show(p)"
      ],
      "execution_count": null,
      "outputs": []
    },
    {
      "cell_type": "code",
      "metadata": {
        "id": "yrR40NGSXzgI"
      },
      "source": [
        "def most_similar_docs(doc_ind,n=10):\n",
        "    n_latent_dimensions = np.shape(word_vecs_norm)[1]\n",
        "    aux = np.reshape(doc_vecs_tr_norm[doc_ind,:], (1,n_latent_dimensions))\n",
        "    dists = pairwise_distances(aux, doc_vecs_tr_norm).flatten()\n",
        "    inds = dists.argsort().tolist()\n",
        "    inds.remove(doc_ind)\n",
        "    return inds[:n]"
      ],
      "execution_count": null,
      "outputs": []
    },
    {
      "cell_type": "code",
      "metadata": {
        "id": "PqO3iFAxXzgL"
      },
      "source": [
        "doc_ind = 1\n",
        "doc_inds = most_similar_docs(doc_ind)\n",
        "\n",
        "start_bold = '\\033[1m'\n",
        "end_bold   = '\\033[0m'\n",
        "\n",
        "print(start_bold + \"document {} in training:\".format(doc_ind) + end_bold)\n",
        "print(narratives_tr[doc_ind])\n",
        "print(start_bold + \"Most similar documents in training:\" + end_bold)\n",
        "for i,ind in enumerate(doc_inds):\n",
        "    print(start_bold + \"* doc {} in training:\".format(i) + end_bold)\n",
        "    print(narratives_tr[ind])"
      ],
      "execution_count": null,
      "outputs": []
    },
    {
      "cell_type": "code",
      "metadata": {
        "id": "faGFeuORXzgP"
      },
      "source": [
        ""
      ],
      "execution_count": null,
      "outputs": []
    }
  ]
}